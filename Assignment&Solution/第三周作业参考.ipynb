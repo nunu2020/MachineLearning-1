{
 "cells": [
  {
   "cell_type": "markdown",
   "metadata": {},
   "source": [
    "# 第三周作业参考答案"
   ]
  },
  {
   "cell_type": "markdown",
   "metadata": {},
   "source": [
    "## 特别说明\n",
    "1、第一题，特征向量矩阵中，每一列是特征向量而不是行（具体示例见文末）。\n",
    "\n",
    "2、第二题，python中矩阵相乘，也即矩阵的叉乘。如果是np.array数据类型，要用a@b或者np.dot(a,b)；不能直接用a* b，这种计算方式是矩阵对应元素相乘。如果是np.mat数据类型，a* b则也能得到正确的矩阵相乘。"
   ]
  },
  {
   "cell_type": "markdown",
   "metadata": {},
   "source": [
    "# 第一题\n",
    "### 2019202449-舒纯新"
   ]
  },
  {
   "cell_type": "markdown",
   "metadata": {},
   "source": [
    "### 1.1 输入矩阵，记为矩阵A"
   ]
  },
  {
   "cell_type": "code",
   "execution_count": 1,
   "metadata": {},
   "outputs": [
    {
     "data": {
      "text/html": [
       "<div>\n",
       "<style scoped>\n",
       "    .dataframe tbody tr th:only-of-type {\n",
       "        vertical-align: middle;\n",
       "    }\n",
       "\n",
       "    .dataframe tbody tr th {\n",
       "        vertical-align: top;\n",
       "    }\n",
       "\n",
       "    .dataframe thead th {\n",
       "        text-align: right;\n",
       "    }\n",
       "</style>\n",
       "<table border=\"1\" class=\"dataframe\">\n",
       "  <thead>\n",
       "    <tr style=\"text-align: right;\">\n",
       "      <th></th>\n",
       "      <th>0</th>\n",
       "      <th>1</th>\n",
       "      <th>2</th>\n",
       "      <th>3</th>\n",
       "      <th>4</th>\n",
       "      <th>5</th>\n",
       "      <th>6</th>\n",
       "      <th>7</th>\n",
       "    </tr>\n",
       "  </thead>\n",
       "  <tbody>\n",
       "    <tr>\n",
       "      <th>0</th>\n",
       "      <td>0</td>\n",
       "      <td>1</td>\n",
       "      <td>1</td>\n",
       "      <td>1</td>\n",
       "      <td>0</td>\n",
       "      <td>0</td>\n",
       "      <td>0</td>\n",
       "      <td>1</td>\n",
       "    </tr>\n",
       "    <tr>\n",
       "      <th>1</th>\n",
       "      <td>1</td>\n",
       "      <td>0</td>\n",
       "      <td>1</td>\n",
       "      <td>0</td>\n",
       "      <td>0</td>\n",
       "      <td>0</td>\n",
       "      <td>0</td>\n",
       "      <td>0</td>\n",
       "    </tr>\n",
       "    <tr>\n",
       "      <th>2</th>\n",
       "      <td>1</td>\n",
       "      <td>1</td>\n",
       "      <td>0</td>\n",
       "      <td>0</td>\n",
       "      <td>0</td>\n",
       "      <td>0</td>\n",
       "      <td>0</td>\n",
       "      <td>1</td>\n",
       "    </tr>\n",
       "    <tr>\n",
       "      <th>3</th>\n",
       "      <td>1</td>\n",
       "      <td>0</td>\n",
       "      <td>0</td>\n",
       "      <td>0</td>\n",
       "      <td>1</td>\n",
       "      <td>1</td>\n",
       "      <td>0</td>\n",
       "      <td>0</td>\n",
       "    </tr>\n",
       "    <tr>\n",
       "      <th>4</th>\n",
       "      <td>0</td>\n",
       "      <td>0</td>\n",
       "      <td>0</td>\n",
       "      <td>1</td>\n",
       "      <td>0</td>\n",
       "      <td>1</td>\n",
       "      <td>1</td>\n",
       "      <td>0</td>\n",
       "    </tr>\n",
       "    <tr>\n",
       "      <th>5</th>\n",
       "      <td>0</td>\n",
       "      <td>0</td>\n",
       "      <td>0</td>\n",
       "      <td>1</td>\n",
       "      <td>1</td>\n",
       "      <td>0</td>\n",
       "      <td>1</td>\n",
       "      <td>0</td>\n",
       "    </tr>\n",
       "    <tr>\n",
       "      <th>6</th>\n",
       "      <td>0</td>\n",
       "      <td>0</td>\n",
       "      <td>0</td>\n",
       "      <td>0</td>\n",
       "      <td>1</td>\n",
       "      <td>1</td>\n",
       "      <td>0</td>\n",
       "      <td>0</td>\n",
       "    </tr>\n",
       "    <tr>\n",
       "      <th>7</th>\n",
       "      <td>1</td>\n",
       "      <td>0</td>\n",
       "      <td>1</td>\n",
       "      <td>0</td>\n",
       "      <td>0</td>\n",
       "      <td>0</td>\n",
       "      <td>0</td>\n",
       "      <td>0</td>\n",
       "    </tr>\n",
       "  </tbody>\n",
       "</table>\n",
       "</div>"
      ],
      "text/plain": [
       "   0  1  2  3  4  5  6  7\n",
       "0  0  1  1  1  0  0  0  1\n",
       "1  1  0  1  0  0  0  0  0\n",
       "2  1  1  0  0  0  0  0  1\n",
       "3  1  0  0  0  1  1  0  0\n",
       "4  0  0  0  1  0  1  1  0\n",
       "5  0  0  0  1  1  0  1  0\n",
       "6  0  0  0  0  1  1  0  0\n",
       "7  1  0  1  0  0  0  0  0"
      ]
     },
     "execution_count": 1,
     "metadata": {},
     "output_type": "execute_result"
    }
   ],
   "source": [
    "import pandas as pd\n",
    "A=pd.read_csv('adj_8times8.csv',header=None)\n",
    "A"
   ]
  },
  {
   "cell_type": "markdown",
   "metadata": {},
   "source": [
    "### 1.2求矩阵特征值和特征向量"
   ]
  },
  {
   "cell_type": "code",
   "execution_count": 2,
   "metadata": {},
   "outputs": [
    {
     "name": "stdout",
     "output_type": "stream",
     "text": [
      "特征根按顺序排列为：\n",
      "[ 2.8723  2.3703  0.2032  0.     -1.     -1.     -1.4458 -2.    ]\n",
      "对应的特征向量按顺序排列为：\n",
      "[[-0.476  -0.3248  0.2559  0.      0.5345  0.0099 -0.095  -0.5547]\n",
      " [-0.2949 -0.3025 -0.1572 -0.7071 -0.     -0.      0.4689  0.2774]\n",
      " [-0.3711 -0.3922 -0.2879 -0.     -0.5345 -0.0099 -0.583  -0.    ]\n",
      " [-0.4063  0.2274  0.6543  0.      0.      0.     -0.2175  0.5547]\n",
      " [-0.3455  0.4319 -0.0615 -0.     -0.2673 -0.7119  0.2047 -0.2774]\n",
      " [-0.3455  0.4319 -0.0615  0.     -0.2673  0.702   0.2047 -0.2774]\n",
      " [-0.2406  0.3644 -0.6053 -0.      0.5345  0.0099 -0.2832  0.2774]\n",
      " [-0.2949 -0.3025 -0.1572  0.7071 -0.     -0.      0.4689  0.2774]]\n"
     ]
    }
   ],
   "source": [
    "import numpy as np\n",
    "np.set_printoptions(precision=4) #控制输出的小数点个数是3\n",
    "np.set_printoptions(suppress=True) #表示小数不需要以科学计数法的形式输出\n",
    "a,b=np.linalg.eig(A)\n",
    "order=np.argsort(-a) #取负可以得到升序索引\n",
    "lambda1=a[order];\n",
    "xi1=b[:,order];\n",
    "print(\"特征根按顺序排列为：\")\n",
    "print(lambda1)\n",
    "print(\"对应的特征向量按顺序排列为：\")\n",
    "print(xi1)"
   ]
  },
  {
   "cell_type": "markdown",
   "metadata": {},
   "source": [
    "### 1.3计算两个向量并合并得到新矩阵"
   ]
  },
  {
   "cell_type": "code",
   "execution_count": 3,
   "metadata": {},
   "outputs": [
    {
     "name": "stdout",
     "output_type": "stream",
     "text": [
      "B矩阵为：\n",
      "[[ 0.6822 -0.5377]\n",
      " [ 1.0257  0.5331]\n",
      " [ 1.057   0.7758]\n",
      " [-0.5598 -1.6104]\n",
      " [-1.2501  0.178 ]\n",
      " [-1.2501  0.178 ]\n",
      " [-1.5148  2.5161]\n",
      " [ 1.0257  0.5331]]\n"
     ]
    }
   ],
   "source": [
    "import numpy as np\n",
    "np.set_printoptions(precision=4) #控制输出的小数点个数是3\n",
    "np.set_printoptions(suppress=True) #表示小数不需要以科学计数法的形式输出\n",
    "m1=xi1[:,1]/xi1[:,0]\n",
    "m2=xi1[:,2]/xi1[:,0]\n",
    "B=np.c_[m1,m2]\n",
    "print(\"B矩阵为：\")\n",
    "print(B)"
   ]
  },
  {
   "cell_type": "markdown",
   "metadata": {},
   "source": [
    "### 1.4 K-means聚类分析"
   ]
  },
  {
   "cell_type": "code",
   "execution_count": 5,
   "metadata": {},
   "outputs": [
    {
     "data": {
      "image/png": "[encoded data removed]",
      "text/plain": [
       "<Figure size 432x288 with 1 Axes>"
      ]
     },
     "metadata": {
      "needs_background": "light"
     },
     "output_type": "display_data"
    },
    {
     "data": {
      "image/png": "[encoded data removed]",
      "text/plain": [
       "<Figure size 432x288 with 1 Axes>"
      ]
     },
     "metadata": {
      "needs_background": "light"
     },
     "output_type": "display_data"
    },
    {
     "data": {
      "image/png": "[encoded data removed]",
      "text/plain": [
       "<Figure size 432x288 with 1 Axes>"
      ]
     },
     "metadata": {
      "needs_background": "light"
     },
     "output_type": "display_data"
    }
   ],
   "source": [
    "import matplotlib.pyplot as plt\n",
    "import numpy as np\n",
    "from sklearn.cluster import KMeans\n",
    "plt.rcParams['font.sans-serif']=['SimHei'] # 用来正常显示中文标签\n",
    "plt.rcParams['axes.unicode_minus']=False # 用来正常显示负号\n",
    "\n",
    "X =B\n",
    "plt.scatter(X[:,0], X[:,1], c = \"red\", marker='o', label='point') #绘制数据分布图\n",
    "for i in range(0,8):\n",
    "    plt.annotate(i,xy=(X[i][0],X[i][1]),fontsize=12,xycoords='data')\n",
    "plt.legend(loc=1)\n",
    "plt.title('未分类散点图')\n",
    "plt.show()\n",
    " \n",
    "estimator = KMeans(n_clusters=3)#构造聚类器\n",
    "estimator.fit(X)#聚类\n",
    "label_pred = estimator.labels_ #获取聚类标签\n",
    "#绘制k-means结果\n",
    "x0 = X[label_pred == 0]\n",
    "x1 = X[label_pred == 1]\n",
    "x2 = X[label_pred == 2]\n",
    "plt.scatter(x0[:, 0], x0[:, 1], c = \"red\", marker='o', label='label0')\n",
    "plt.scatter(x1[:, 0], x1[:, 1], c = \"green\", marker='*', label='label1')\n",
    "plt.scatter(x2[:, 0], x2[:, 1], c = \"blue\", marker='+', label='label2')\n",
    "\n",
    "for i in range(0,8):\n",
    "    plt.annotate(i,xy=(X[i][0],X[i][1]),fontsize=12,xycoords='data')\n",
    "plt.legend(loc=1)\n",
    "plt.title('k=3分类结果')\n",
    "plt.show()  #用三个分类进行聚类\n",
    "\n",
    "estimator = KMeans(n_clusters=2)#构造聚类器\n",
    "estimator.fit(X)#聚类\n",
    "label_pred = estimator.labels_ #获取聚类标签\n",
    "#绘制k-means结果\n",
    "x0 = X[label_pred == 0]\n",
    "x1 = X[label_pred == 1]\n",
    "plt.scatter(x0[:, 0], x0[:, 1], c = \"red\", marker='o', label='label0')\n",
    "plt.scatter(x1[:, 0], x1[:, 1], c = \"green\", marker='*', label='label1')\n",
    "for i in range(0,8):\n",
    "    plt.annotate(i,xy=(X[i][0],X[i][1]),fontsize=12,xycoords='data')\n",
    "plt.legend(loc=1)\n",
    "plt.title('k=2分类结果')\n",
    "plt.show()   #用两个分类进行聚类"
   ]
  },
  {
   "cell_type": "markdown",
   "metadata": {},
   "source": [
    "* 聚类结果分析\n",
    "\n",
    "先绘制数据点观察，然后分别用三个类目标和两个类目标进行聚类，从图形直观感觉目标设定为三个的时候结果好于两个，下面进一步分析\n",
    "\n",
    "目标设定为3个的时候，0,1,2,7为一类，3,4,5为一类，6为一类，在矩阵A中类内之间连通点几乎都符合，类间连通点较少，还是有连通点如（0,3），（4,6），（5,6），聚类实现较好。\n",
    "\n",
    "目标设定为2个的时候，0,1,2,7为一类，3,4,5,6为一类，类内连通点基本都符合，类间连通点较三个目标更少。\n",
    "\n",
    "总体而言，类内类间划分两个目标的表现较设定三个目标更好。"
   ]
  },
  {
   "cell_type": "markdown",
   "metadata": {},
   "source": [
    "### 补充：第一题示意图，给出的原始矩阵A其实是一个网络的邻接矩阵，这个网络共有8个点，如果点i和点j之间有连接的边，那么Aij=1，且初始设定Aii=0。"
   ]
  },
  {
   "attachments": {
    "image.png": {
     "image/png": "[encoded data removed]"
    }
   },
   "cell_type": "markdown",
   "metadata": {},
   "source": [
    "![image.png](attachment:image.png)"
   ]
  },
  {
   "cell_type": "markdown",
   "metadata": {},
   "source": [
    "# 第二题"
   ]
  },
  {
   "cell_type": "markdown",
   "metadata": {},
   "source": [
    "### 参考一  2019202449-舒纯新（np.mat形式）\n"
   ]
  },
  {
   "cell_type": "markdown",
   "metadata": {},
   "source": [
    "## 解题过程\n",
    "### 2.1计算回归方程Ax = b中的$x=(A^TA)^{-1}A^Tb$"
   ]
  },
  {
   "cell_type": "code",
   "execution_count": 14,
   "metadata": {},
   "outputs": [
    {
     "name": "stdout",
     "output_type": "stream",
     "text": [
      "解得x：\n",
      " [[ 0.3288]\n",
      " [-0.0548]]\n"
     ]
    }
   ],
   "source": [
    "import pandas as pd\n",
    "import numpy as np\n",
    "from numpy import *;\n",
    "M=pd.read_csv('LeastSq.csv')\n",
    "A =mat(np.c_[M.A1,M.A2])  #这里用的是np.mat，转成mat数据类型\n",
    "A1=A.T\n",
    "b = mat(M.b).T\n",
    "x=(A1*A).I*A1*b\n",
    "print(\"解得x：\\n\",x)"
   ]
  },
  {
   "cell_type": "markdown",
   "metadata": {},
   "source": [
    "### 2.2 计算矩阵$x^TA^TAx$对x的一阶导数\n",
    "\n",
    "$x^TA^TAx$对x的一阶导数为$2A^TAx$\n",
    "\n"
   ]
  },
  {
   "cell_type": "code",
   "execution_count": 15,
   "metadata": {},
   "outputs": [
    {
     "name": "stdout",
     "output_type": "stream",
     "text": [
      "一阶导 [[733.48]\n",
      " [502.32]]\n"
     ]
    }
   ],
   "source": [
    "x1=2*A1*A*x\n",
    "print('一阶导',x1)"
   ]
  },
  {
   "cell_type": "markdown",
   "metadata": {},
   "source": [
    "### 2.3计算矩阵$X^TA^TAX$对X的二阶导数\n",
    "\n",
    "$X^TA^TAX$对X的二阶导数为$2A^TA$"
   ]
  },
  {
   "cell_type": "code",
   "execution_count": 16,
   "metadata": {},
   "outputs": [
    {
     "name": "stdout",
     "output_type": "stream",
     "text": [
      "原式对x的二阶导数为：\n",
      "[[2518.18 1725.78]\n",
      " [1725.78 1189.2 ]]\n"
     ]
    }
   ],
   "source": [
    "x2=2*A1*A\n",
    "print(\"原式对x的二阶导数为：\")\n",
    "print(x2)"
   ]
  },
  {
   "cell_type": "code",
   "execution_count": null,
   "metadata": {},
   "outputs": [],
   "source": []
  },
  {
   "cell_type": "markdown",
   "metadata": {},
   "source": [
    "### 参考二 2019202450-陈诺（np.array形式）\n"
   ]
  },
  {
   "cell_type": "markdown",
   "metadata": {},
   "source": [
    "### 2.1 给出矩阵A和向量b，计算回归方程Ax=b中的x。矩阵A以及向量b的数据见LeastSq.csv。\n",
    "\n",
    "参见cs229-linalg.pdf第27页\n",
    "\n",
    "#### 代码实现"
   ]
  },
  {
   "cell_type": "code",
   "execution_count": 20,
   "metadata": {},
   "outputs": [
    {
     "name": "stdout",
     "output_type": "stream",
     "text": [
      "     A1   A2    b\n",
      "0   5.1  3.5  1.4\n",
      "1   4.9  3.0  1.4\n",
      "2   4.7  3.2  1.3\n",
      "3   4.6  3.1  1.5\n",
      "4   5.0  3.6  1.4\n",
      "5   5.4  3.9  1.7\n",
      "6   4.6  3.4  1.4\n",
      "7   5.0  3.4  1.5\n",
      "8   4.4  2.9  1.4\n",
      "9   4.9  3.1  1.5\n",
      "10  5.4  3.7  1.5\n",
      "11  4.8  3.4  1.6\n",
      "12  4.8  3.0  1.4\n",
      "13  4.3  3.0  1.1\n",
      "14  5.8  4.0  1.2\n",
      "15  5.7  4.4  1.5\n",
      "16  5.4  3.9  1.3\n",
      "17  5.1  3.5  1.4\n",
      "18  5.7  3.8  1.7\n",
      "19  5.1  3.8  1.5\n",
      "20  5.4  3.4  1.7\n",
      "21  5.1  3.7  1.5\n",
      "22  4.6  3.6  1.0\n",
      "23  5.1  3.3  1.7\n",
      "24  4.8  3.4  1.9\n",
      "25  5.0  3.0  1.6\n",
      "26  5.0  3.4  1.6\n",
      "27  5.2  3.5  1.5\n",
      "28  5.2  3.4  1.4\n",
      "29  4.7  3.2  1.6\n",
      "30  4.8  3.1  1.6\n",
      "31  5.4  3.4  1.5\n",
      "32  5.2  4.1  1.5\n",
      "33  5.5  4.2  1.4\n",
      "34  4.9  3.1  1.5\n",
      "35  5.0  3.2  1.2\n",
      "36  5.5  3.5  1.3\n",
      "37  4.9  3.6  1.4\n",
      "38  4.4  3.0  1.3\n",
      "39  5.1  3.4  1.5\n",
      "40  5.0  3.5  1.3\n",
      "41  4.5  2.3  1.3\n",
      "42  4.4  3.2  1.3\n",
      "43  5.0  3.5  1.6\n",
      "44  5.1  3.8  1.9\n",
      "45  4.8  3.0  1.4\n",
      "46  5.1  3.8  1.6\n",
      "47  4.6  3.2  1.4\n",
      "48  5.3  3.7  1.5\n",
      "49  5.0  3.3  1.4\n"
     ]
    }
   ],
   "source": [
    "import pandas as pd\n",
    "df = pd.read_csv(\"LeastSq.csv\")\n",
    "#展示数据\n",
    "print(df)\n",
    "#设置A和b的值\n",
    "A = np.array(df[['A1','A2']])\n",
    "b = np.array(df[['b']])\n",
    "#print(\"矩阵A\\n\",A)\n",
    "#print(\"向量b\",b)\n",
    "\n",
    "# tb1 = pt.PrettyTable()\n",
    "# tb1.field_names = [\"矩阵A\", \"向量b\"]\n",
    "# tb1.add_row([A,b])\n",
    "# print(tb1)"
   ]
  },
  {
   "cell_type": "code",
   "execution_count": 21,
   "metadata": {},
   "outputs": [],
   "source": [
    "#解回归方程\n",
    "X = np.dot(np.dot(np.linalg.inv(np.dot(A.T,A)),A.T),b)"
   ]
  },
  {
   "cell_type": "code",
   "execution_count": 22,
   "metadata": {},
   "outputs": [
    {
     "name": "stdout",
     "output_type": "stream",
     "text": [
      "回归方程Ax=b的解为\n",
      " [[ 0.3288]\n",
      " [-0.0548]]\n"
     ]
    }
   ],
   "source": [
    "print(\"回归方程Ax=b的解为\\n\",X)"
   ]
  },
  {
   "cell_type": "markdown",
   "metadata": {},
   "source": [
    "#### 2.2 计算矩阵$X^TA^TAX$对X的一阶导数\n",
    "\n",
    "#### 代码实现"
   ]
  },
  {
   "cell_type": "code",
   "execution_count": 23,
   "metadata": {},
   "outputs": [
    {
     "name": "stdout",
     "output_type": "stream",
     "text": [
      "[[733.48]\n",
      " [502.32]]\n"
     ]
    }
   ],
   "source": [
    "x1 = 2*np.dot(np.dot(A.T,A),X)\n",
    "print(x1)"
   ]
  },
  {
   "cell_type": "markdown",
   "metadata": {},
   "source": [
    "#### 结果分析\n",
    "<font face=\"宋体\">矩阵$X^TA^TAX$对X的一阶导数为$\\left[\\begin{array}{1}733.48\\\\502.32\\end{array}\\right]$"
   ]
  },
  {
   "cell_type": "markdown",
   "metadata": {},
   "source": [
    "### 2.3 计算矩阵$X^TA^TAX$对X的二阶导数\n",
    "\n",
    "#### 代码实现"
   ]
  },
  {
   "cell_type": "code",
   "execution_count": 24,
   "metadata": {},
   "outputs": [
    {
     "name": "stdout",
     "output_type": "stream",
     "text": [
      "[[2518.18 1725.78]\n",
      " [1725.78 1189.2 ]]\n"
     ]
    }
   ],
   "source": [
    "x2 = 2*np.dot(A.T,A)\n",
    "print(x2)"
   ]
  },
  {
   "cell_type": "markdown",
   "metadata": {},
   "source": [
    "#### 结果分析\n",
    "<font face=\"宋体\">矩阵$X^TA^TAX$对X的二阶导数为$\\left[\\begin{array}{1}2518.18&1725.78\\\\1725.78&1189.2\\end{array}\\right]$"
   ]
  },
  {
   "cell_type": "code",
   "execution_count": null,
   "metadata": {},
   "outputs": [],
   "source": []
  },
  {
   "cell_type": "code",
   "execution_count": null,
   "metadata": {},
   "outputs": [],
   "source": []
  },
  {
   "cell_type": "markdown",
   "metadata": {},
   "source": [
    "# 第三题\n",
    "### 参考一2019202450-陈诺"
   ]
  },
  {
   "cell_type": "markdown",
   "metadata": {},
   "source": [
    "<font face=\"宋体\">$\\quad$与使用单个合取式来进行假设表示相比，使用“析合范式”将使得假设空间具有更强的表示能力。例如$$好瓜\\leftrightarrow((色泽=*)\\land(根蒂=蜷缩)\\land(敲声=*))\\vee((色泽=乌黑)\\land(根蒂=*)\\land(敲声=沉闷)),$$会把“$(色泽=青绿)\\land(根蒂=蜷缩)\\land(敲声=清脆)$”以及“$(色泽=乌黑)\\land(根蒂=硬挺)\\land(敲声=沉闷)$”都分类为“好瓜”。若使用最多包含k个合取式的析合范式来表达表1.1西瓜分类问题的假设空间，试估算共有多少种可能的假设。(p19)"
   ]
  },
  {
   "cell_type": "markdown",
   "metadata": {},
   "source": [
    "#### 基本设置\n",
    "\n",
    "<font face=\"宋体\">表1.1中“色泽”“根蒂”“敲声”分别由2、3、3种可能取值，又因为析取范式不考虑空集∅,所以一共有48个基本假设（基本合取式）在48各基本假设中有2*3*3=18个叶子假设（叶子合取式）：每个特征的取值都为具体值。任何合取式、析取式都可以用这18个叶子合取式的组合来表示。\n",
    "\n",
    "<font face=\"宋体\">因此可以用一个18位的二进制整数来表示任意假设：将18个叶子合取式编号，若某假设包含序号为1的叶子合取式，则该假设第一位为1，否则第一位为0。其它位类推。在这种新的表达方式下，合并合取式（或析取式）A,B，只需作 C=A|B的按位或运算，C即为表示A、B合并析取式的整数。"
   ]
  },
  {
   "cell_type": "markdown",
   "metadata": {},
   "source": [
    "#### 代码实现"
   ]
  },
  {
   "cell_type": "code",
   "execution_count": 18,
   "metadata": {},
   "outputs": [
    {
     "name": "stdout",
     "output_type": "stream",
     "text": [
      "length  1 :     48\n",
      "length  2 :    897\n",
      "length  3 :   8385\n",
      "length  4 :  41742\n",
      "length  5 : 115821\n",
      "length  6 : 201303\n",
      "length  7 : 248853\n",
      "length  8 : 260787\n",
      "length  9 : 262143\n",
      "length 10 : 262143\n",
      "length 11 : 262143\n",
      "length 12 : 262143\n",
      "length 13 : 262143\n",
      "length 14 : 262143\n",
      "length 15 : 262143\n",
      "length 16 : 262143\n",
      "length 17 : 262143\n",
      "length 18 : 262143\n"
     ]
    }
   ],
   "source": [
    "#48个基本合取式的旧表达式\n",
    "hypo_old = np.array([0xff,0xf9,0xfa,0xfc,0xcf,0xd7,0xe7,0x7f,\\\n",
    "                      0xbf,0xc9,0xca,0xcc,0xd1,0xd2,0xd4,0xe1,\\\n",
    "                      0xe2,0xe4,0x79,0x7a,0x7c,0xb9,0xba,0xbc,\\\n",
    "                      0x4f,0x57,0x67,0x8f,0x97,0xa7,0x49,0x4a,\\\n",
    "                      0x4c,0x51,0x52,0x54,0x61,0x62,0x64,0x89,\\\n",
    "                      0x8a,0x8c,0x91,0x92,0x94,0xa1,0xa2,0xa4])\n",
    "#18个叶子合取式的旧表达式\n",
    "hypo_leaf = np.array([0x49,0x4a,0x4c,0x51,0x52,0x54,0x61,0x62,0x64,\n",
    "                      0x89,0x8a,0x8c,0x91,0x92,0x94,0xa1,0xa2,0xa4]) \n",
    "#新的表达结果（48个整数）\n",
    "hypo_const = np.zeros((48,), dtype = np.int)\n",
    "#新的叶子合取式\n",
    "new_leaf = np.array([0x20000,0x10000,0x08000,0x04000,0x02000,0x01000,\n",
    "                     0x00800,0x00400,0x00200,0x00100,0x00080,0x00040,\n",
    "                     0x00020,0x00010,0x00008,0x00004,0x00002,0x00001])\n",
    "#hypo_appear来记录每个假设出现与否,出现则数组对应元素记为1,未出现为0。\n",
    "def count(n_n,n_k,n_count,hypo_appear):\n",
    "    #n_count=np.array([0])\n",
    "    #hypo_appear = np.zeros((262143,), dtype = np.int)\n",
    "    \n",
    "    poslist = np.ones((n_k,), dtype = np.int)*-1\n",
    "    hypo_process = np.zeros((n_k,), dtype = np.int)\n",
    "        \n",
    "    posflag = 0\n",
    "    #poslist[0] <= n_n-n_k\n",
    "    while 1:\n",
    "        #如果是第一个则自增，如果超出则退出,否则直接赋值，赋值后如未达个数提前到0x3ffff跳过该点，否则进入下一轮\n",
    "        if posflag == 0: \n",
    "            poslist[posflag] = poslist[posflag]+1\n",
    "            if poslist[0] > n_n-n_k:\n",
    "                #整个循环的退出口\n",
    "                break\n",
    "            hypo_process[posflag] = hypo_const[poslist[posflag]]; #直接赋值\n",
    "            \n",
    "            if hypo_process[posflag] == 0x3ffff and posflag<n_k-1: \n",
    "                #提前到0x3ffff跳过\n",
    "                continue\n",
    "            else:\n",
    "                posflag = posflag+1\n",
    "                #上升趋势\n",
    "                trend = 1\n",
    "        else:\n",
    "            #上升趋势递增，下降趋势自增，如果超出则位数下降回滚上一轮，否则加入本轮假设，若无变化则跳过该点，如果未达个数提前到0x3ffff也跳过该点，否则进入下一轮\n",
    "            if trend == 1:\n",
    "                poslist[posflag] = poslist[posflag-1] + 1\n",
    "            else:\n",
    "                poslist[posflag] = poslist[posflag]+1\n",
    "            if poslist[posflag] > n_n-n_k+posflag:\n",
    "                #超出则位数下降\n",
    "                posflag = posflag-1\n",
    "                trend = 0\n",
    "                continue\n",
    "            \n",
    "            #加入本轮假设\n",
    "            hypo_process[posflag] = hypo_process[posflag-1]|hypo_const[poslist[posflag]] \n",
    "            if hypo_process[posflag] == hypo_process[posflag-1] or hypo_process[posflag] == 0x3ffff and posflag<n_k-1:\n",
    "                #跳过部分\n",
    "                #跳过等同回滚，自增\n",
    "                trend = 0\n",
    "                continue\n",
    "            \n",
    "            posflag = posflag+1\n",
    "            trend = 1\n",
    "        \n",
    "        if posflag == n_k:\n",
    "            #说明k个析合范式已经全部形成\n",
    "            posflag = posflag-1\n",
    "            trend = 0\n",
    "            if hypo_appear[hypo_process[posflag]-1]==0:\n",
    "                n_count[0] = n_count[0]+1\n",
    "                hypo_appear[hypo_process[posflag]-1] = 1\n",
    "            \n",
    "            '''\n",
    "            应该判断是否重复。\n",
    "            不同的析取范式，有可能表示同一种假设。\n",
    "            比如：(色泽=*，根蒂=*，敲声=浊响)∨(色泽=*，根蒂=*，敲声=清脆)∨(色泽=*，根蒂=*，敲声=沉闷)\n",
    "            与(色泽=乌黑，根蒂=*，敲声=*)∨(色泽=青绿，根蒂=*，敲声=*)是同一种假设，\n",
    "            它们都表示(色泽=*，根蒂=*，敲声=*)，它们在18位整数的表示方法下，对应的整数是唯一的。\n",
    "            因此，只有在原先未出现此数（此假设）的情况下，才能将计数值自增。否则重复，不计数。\n",
    "            '''        \n",
    "    return n_count[0]\n",
    "\n",
    "if __name__ == '__main__':\n",
    "    for i in range(48):\n",
    "        #形成新表达式\n",
    "        for j in range(18):\n",
    "            '''\n",
    "            对hypo_old中的每个元素，循环对hypo_leaf中的18个元素xi作如下判断：\n",
    "            若A|xi==A，则Anew中第i位为1，否则Anew中第i位为0. 将新的表达结果（48个整数）存在hypo_const中\n",
    "            '''\n",
    "            if (hypo_old[i]|hypo_leaf[j]) == hypo_old[i]:\n",
    "                hypo_const[i] = hypo_const[i]|new_leaf[j]\n",
    "        \n",
    "    change = 0               \n",
    "    n_count=np.array([0])\n",
    "    hypo_appear = np.zeros((262143,), dtype = np.int)\n",
    "    \n",
    "    for i in range(1,19):\n",
    "        count(48,i,n_count,hypo_appear)\n",
    "        print(\"length {0:2} : {1:6}\".format(i,n_count[0])) "
   ]
  },
  {
   "cell_type": "markdown",
   "metadata": {},
   "source": [
    "#### 结果分析\n",
    "根据上述输出结果可得，当k=1时，可以表示出48条假设，且这些假设之间没有冗余；当k=2时，可以一共表示出897条假设，每一个条假设可含有最多2个合取式且任意两条假设之间不冗余；当k=3时，以此类推；同时，可以发现，使用最多包含9个合取式的析合范式，就可以表示整个假设空间中所有的262143个假设，再添加任意一条假设都会出现冗余。"
   ]
  },
  {
   "cell_type": "code",
   "execution_count": null,
   "metadata": {},
   "outputs": [],
   "source": []
  },
  {
   "cell_type": "markdown",
   "metadata": {},
   "source": [
    "### 参考二  2019202193-吕良波"
   ]
  },
  {
   "cell_type": "markdown",
   "metadata": {},
   "source": [
    "  首先我们看表1.1，其中色泽有“青绿”和“乌黑”两种，根蒂有“蜷缩”“硬挺”“稍蜷”三种，敲声有“浊响”“清脆”“沉闷”三种。由于要考虑通配符以及出现全空集的情况,所以总共的情况的数量为 $4*3*4+1=49$，一共49种情况。这个是$k=1$的结果。此时为了解决$k>1$的情况，我们要从原来的49种情况中抽取并组合成新的假设情况，并要将冗余的情况剔除，这里冗余的就是带有$*$的情况。\n",
    "  \n",
    "  我们知道当$k=1$的时候，我们有$48$种基本情况和一种空的情况。为了更好的说明我计算的思路，我以存在$*$的个数进行分类，将所有的情况进行描述。\n",
    "  \n",
    "  当不存在$*$的时候，在里面任取的话并不会产生盈余，这种情况下我将它称为基础情况，色泽、根蒂、敲声在基础的情况下分别有$2$种、$3$种、$3$种可能性，因此，基础情况一共有$2*3*3=18$种可能性。\n",
    "  \n",
    "  当存在一个$*$时，相当于将对应的一类的基础情况全部覆盖。这个时候，一个$*$一共有$3*3+2*3+2*3=21$种可能性。存在两个$*$的时候，一共有$3+3+2=7$种可能性，并且会覆盖前两类的情况。三个$*$只有一种情况，它无法出现在$k>=2$的任何空间里，一旦出现一定会发生冗余。\n",
    "  \n",
    "  通过排除式的计算，我只计算了$k<=5$的情况。同时通过计算我们可以得到，$k$至多为$18$，超过之后一定会出现冗余，最终的结果向量为当$k=1,2,3,4,5,18$的时候，我们可以的得到最终的结果为$48,865,8028,39861,109686,1$。"
   ]
  },
  {
   "cell_type": "markdown",
   "metadata": {},
   "source": [
    "### 补充说明：\n",
    "#### 虽然题目中要求最多包含K个合取式，也就是给定K时，可以构造的析取式可以含有1个合取式，或2个合取式，...或K个合取式。\n",
    "#### 因为数据量较大，在没有编程实现的情况下，也可以采用这种简化的方式描述自己的思路。\n",
    "#### 这里只考虑了给定K值时，析取式恰好含K个合取式的情况，并没有考虑所有小于等于k的情况。"
   ]
  },
  {
   "cell_type": "code",
   "execution_count": null,
   "metadata": {},
   "outputs": [],
   "source": []
  },
  {
   "cell_type": "markdown",
   "metadata": {},
   "source": [
    "# 第四题\n",
    "### 2019202193-吕良波"
   ]
  },
  {
   "cell_type": "markdown",
   "metadata": {},
   "source": [
    "若数据含有噪声导致假设空间可能不存在和训练样本都一致的假设，说明假设空间的所有假设都被反类排除，因此，我将分两种情况讨论我对于这个题目归纳偏好的看法。\n",
    "\n",
    "若给出的所有的情况都是反类，那么我们可以认为不存在正类的情况。比如说，我们发现任何种类的瓜都是不甜的瓜，那么这个时候我们可以认为“好瓜”这个并不存在。\n",
    "\n",
    "那么剩下的就会出现这样一种情形，有其中的几个假设既存在反类又存在正类的情况，此时，我们可以将他认为是正类，以此来作为我们的偏好选择。比如，存在一种情况，它既是好瓜，同时又出现了坏瓜的情况，这个时候，我们认为它可能受到了噪声的影响，因此，我们就先将它认作是好瓜，这样一种归纳偏好有助于我们减少噪声的影响。"
   ]
  },
  {
   "cell_type": "code",
   "execution_count": null,
   "metadata": {},
   "outputs": [],
   "source": []
  },
  {
   "cell_type": "markdown",
   "metadata": {},
   "source": [
    "# 关于特征向量的补充"
   ]
  },
  {
   "cell_type": "code",
   "execution_count": 1,
   "metadata": {},
   "outputs": [],
   "source": [
    "import pandas as pd\n",
    "import numpy as np\n",
    "\n",
    "np.set_printoptions(precision=3) #控制输出的小数点个数是3\n",
    "np.set_printoptions(suppress=True) #表示小数不需要以科学计数法的形式输出\n",
    "\n",
    "mat=pd.read_csv('adj_8times8.csv',header=None)\n",
    "matA=np.array(mat,dtype=int)"
   ]
  },
  {
   "cell_type": "code",
   "execution_count": 2,
   "metadata": {},
   "outputs": [
    {
     "data": {
      "text/plain": [
       "array([[0, 1, 1, 1, 0, 0, 0, 1],\n",
       "       [1, 0, 1, 0, 0, 0, 0, 0],\n",
       "       [1, 1, 0, 0, 0, 0, 0, 1],\n",
       "       [1, 0, 0, 0, 1, 1, 0, 0],\n",
       "       [0, 0, 0, 1, 0, 1, 1, 0],\n",
       "       [0, 0, 0, 1, 1, 0, 1, 0],\n",
       "       [0, 0, 0, 0, 1, 1, 0, 0],\n",
       "       [1, 0, 1, 0, 0, 0, 0, 0]])"
      ]
     },
     "execution_count": 2,
     "metadata": {},
     "output_type": "execute_result"
    }
   ],
   "source": [
    "matA"
   ]
  },
  {
   "cell_type": "code",
   "execution_count": 3,
   "metadata": {},
   "outputs": [],
   "source": [
    "evals,vect=np.linalg.eig(matA)"
   ]
  },
  {
   "cell_type": "code",
   "execution_count": 4,
   "metadata": {},
   "outputs": [
    {
     "data": {
      "text/plain": [
       "array([ 2.872,  2.37 , -2.   , -1.   , -1.446,  0.203,  0.   , -1.   ])"
      ]
     },
     "execution_count": 4,
     "metadata": {},
     "output_type": "execute_result"
    }
   ],
   "source": [
    "evals"
   ]
  },
  {
   "cell_type": "code",
   "execution_count": 5,
   "metadata": {},
   "outputs": [
    {
     "data": {
      "text/plain": [
       "array([[-0.476, -0.325, -0.555,  0.535, -0.095,  0.256,  0.   ,  0.01 ],\n",
       "       [-0.295, -0.302,  0.277, -0.   ,  0.469, -0.157, -0.707, -0.   ],\n",
       "       [-0.371, -0.392, -0.   , -0.535, -0.583, -0.288, -0.   , -0.01 ],\n",
       "       [-0.406,  0.227,  0.555,  0.   , -0.218,  0.654,  0.   ,  0.   ],\n",
       "       [-0.346,  0.432, -0.277, -0.267,  0.205, -0.061, -0.   , -0.712],\n",
       "       [-0.346,  0.432, -0.277, -0.267,  0.205, -0.061,  0.   ,  0.702],\n",
       "       [-0.241,  0.364,  0.277,  0.535, -0.283, -0.605, -0.   ,  0.01 ],\n",
       "       [-0.295, -0.302,  0.277, -0.   ,  0.469, -0.157,  0.707, -0.   ]])"
      ]
     },
     "execution_count": 5,
     "metadata": {},
     "output_type": "execute_result"
    }
   ],
   "source": [
    "vect"
   ]
  },
  {
   "cell_type": "code",
   "execution_count": 6,
   "metadata": {},
   "outputs": [
    {
     "data": {
      "text/plain": [
       "array([-1.367, -0.847, -1.066, -1.167, -0.992, -0.992, -0.691, -0.847])"
      ]
     },
     "execution_count": 6,
     "metadata": {},
     "output_type": "execute_result"
    }
   ],
   "source": [
    "np.dot(matA,vect[:,0])#matA与vect第一列"
   ]
  },
  {
   "cell_type": "code",
   "execution_count": 7,
   "metadata": {},
   "outputs": [
    {
     "data": {
      "text/plain": [
       "array([-1.367, -0.847, -1.066, -1.167, -0.992, -0.992, -0.691, -0.847])"
      ]
     },
     "execution_count": 7,
     "metadata": {},
     "output_type": "execute_result"
    }
   ],
   "source": [
    "vect[:,0]*evals[0] #matA与第一个特征值"
   ]
  },
  {
   "cell_type": "markdown",
   "metadata": {},
   "source": [
    "#### 满足方程$Ax=\\lambda x$"
   ]
  }
 ],
 "metadata": {
  "kernelspec": {
   "display_name": "Python 3",
   "language": "python",
   "name": "python3"
  },
  "language_info": {
   "codemirror_mode": {
    "name": "ipython",
    "version": 3
   },
   "file_extension": ".py",
   "mimetype": "text/x-python",
   "name": "python",
   "nbconvert_exporter": "python",
   "pygments_lexer": "ipython3",
   "version": "3.8.5"
  }
 },
 "nbformat": 4,
 "nbformat_minor": 4
}
