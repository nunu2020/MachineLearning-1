{
 "cells": [
  {
   "cell_type": "markdown",
   "metadata": {},
   "source": [
    "# 第九周作业参考"
   ]
  },
  {
   "cell_type": "markdown",
   "metadata": {},
   "source": [
    "之前大家对qda和lda已经比较熟了，本周作业也都做得挺好的，很多同学都在作业中体现了自己的思考。\n",
    "\n",
    "可以参考下其他同学的思路以及代码编写方式。"
   ]
  },
  {
   "cell_type": "markdown",
   "metadata": {},
   "source": [
    "# 参考一 2019202091-徐克丰\n",
    "# 第一题\n",
    "## 题目描述\n",
    "从正态分布$C_1=N(\\left(\\begin{array}{cc}-1.5 \\\\ -1\\end{array}\\right),\\Sigma_1)$和$C_2=N(\\left(\\begin{array}{cc}2\\\\ 1\\end{array}\\right),\\Sigma_2)$，\n",
    "$\\Sigma_1=\\left(\\begin{array}{cc}1&\\rho_1\\\\ \\rho_1&1\\end{array}\\right)$和\n",
    "$\\Sigma_2=\\left(\\begin{array}{cc}1&\\rho_2\\\\ \\rho_2&1\\end{array}\\right)$进行如下比较分析：\n",
    "\n",
    "1.令$\\rho_1=\\rho_2=0$，各类产生随机数100个，每类选择20个作为训练数据，另外80个作为测试数据，比较$LDA$和$QDA$在测试数据上的分类错误率，分析这两个模型哪个模型更适用？\n",
    "\n",
    "2.令$\\rho_1=-0.3，\\rho_2=0.8$，重新进行实验，实验方法和1类似，比较$LDA$和$QDA$在测试数据上的分类错误率，分析这两个模型哪个模型更适用？\n",
    "\n",
    "3.从$t(2)$分布中产生$X_1,X_2$生成50个观测作为$C_3$类，此时需要将$C_3$和$C_2$分开$LDA$和$QDA$哪一种比较理想？以上实验中的$P(C_i),i=1,2,3...$请用每一组参与训练的数据量来估计。"
   ]
  },
  {
   "cell_type": "markdown",
   "metadata": {},
   "source": [
    "## 第1问"
   ]
  },
  {
   "cell_type": "markdown",
   "metadata": {},
   "source": [
    "## 代码实现"
   ]
  },
  {
   "cell_type": "code",
   "execution_count": 25,
   "metadata": {},
   "outputs": [
    {
     "name": "stdout",
     "output_type": "stream",
     "text": [
      "由LDA得出的投影方向为：(0.828,0.561)\n",
      "由LDA线性判别分析分类错误率为：0.025\n",
      "由QDA求出的线性判别分界面为：-3.500x1-2.000x2-0.875=0\n",
      "由QDA求出的分界面对测试集进行测试，分类错误率为：0.025\n"
     ]
    }
   ],
   "source": [
    "import matplotlib.pyplot as plt\n",
    "import pandas as pd\n",
    "import numpy as np\n",
    "from numpy.linalg import cholesky\n",
    "from sklearn.model_selection import train_test_split\n",
    "#产生二元正态随机数\n",
    "samplenum=100\n",
    "mu1=np.array([[-1.5,-1]])\n",
    "mu2=np.array([[2,1]])\n",
    "sigma1=np.array([[1,0],[0,1]])\n",
    "sigma2=np.array([[1,0],[0,1]])\n",
    "R1=cholesky(sigma1)   #将矩阵分解成LL^T的形式,对于此矩阵，即求矩阵sigma的0.5次幂\n",
    "R2=cholesky(sigma2)\n",
    "sample1=np.dot(np.random.randn(samplenum,2),R1)+mu1  #产生标准二元正态，逆运算得到非标准正态分布\n",
    "sample2=np.dot(np.random.randn(samplenum,2),R2)+mu2\n",
    "y1=np.ones(100)   #设置分类标签，分为类别1和类别2\n",
    "y2=np.ones(100)*2\n",
    "\n",
    "#分成训练集和测试集，训练集0.2，测试集占比0.8\n",
    "X1_train,X1_test,Y1_train,Y1_test=train_test_split(sample1,y1,test_size=0.8,random_state=1)\n",
    "X2_train,X2_test,Y2_train,Y2_test=train_test_split(sample2,y2,test_size=0.8,random_state=2)\n",
    "\n",
    "#LDA线性判别求解,首先求解均值向量和协方差矩阵\n",
    "miu1=sum(X1_train)/len(X1_train)\n",
    "miu2=sum(X2_train)/len(X2_train)\n",
    "cov1=np.cov(X1_train,rowvar=False) #rowvar=false表示按行看成一组观测值\n",
    "cov2=np.cov(X2_train,rowvar=False)\n",
    "sw=cov1+cov2 #类内散度矩阵\n",
    "w=np.dot(np.linalg.inv(sw),(miu1-miu2).reshape(2,1))\n",
    "w=-w/np.linalg.norm(w)  #由此求解出了LDA的投影方向\n",
    "print('由LDA得出的投影方向为：(%.3f,%.3f)'%(w.reshape(2)[0],w.reshape(2)[1]))\n",
    "#用测试集求解分类的错误率,即对于每一个测试样例，求解其投影值，比较到两个类别投影中心点的距离\n",
    "wmu1=np.dot(w.reshape(1,2),miu1)   #求解每一类别的投影中心点(一维数值)\n",
    "wmu2=np.dot(w.reshape(1,2),miu2)\n",
    "err=0  #计数分类错误的个数\n",
    "for i in range(len(X1_test)):\n",
    "    val1=np.dot(w.reshape(1,2),X1_test[i]) #求解投影值\n",
    "    val2=np.dot(w.reshape(1,2),X2_test[i])\n",
    "    if abs(val1-wmu1)>abs(val1-wmu2):\n",
    "        err+=1    #如果第一类测试样例到第二类的距离更近，就说明分类错误\n",
    "    if abs(val2-wmu2)>abs(val2-wmu1):\n",
    "        err+=1    #如果第二类测试样例到第一类的距离更近，就说明分类错误\n",
    "print('由LDA线性判别分析分类错误率为：%.3f'%(err/(2*len(X1_test))))\n",
    "\n",
    "#用QDA求解出一个分界面，先验概率均为p1=p2=0.5,按照多元正态第一种情况来求解，sigma=1\n",
    "b=(mu1-mu2).reshape(2)\n",
    "x0=0.5*(mu1+mu2).reshape(2)  #先验概率相等，x0的后一项为0\n",
    "k1=b[0];k2=b[1];k0=b[0]*x0[0]+b[1]*x0[1]\n",
    "print('由QDA求出的线性判别分界面为：%.3fx1%.3fx2%.3f=0'%(b[0],b[1],b[0]*x0[0]+b[1]*x0[1]))\n",
    "#测试QDA的分类错误率\n",
    "qdaerr=0\n",
    "for i in range(len(X1_test)):\n",
    "    val1=k1*X1_test[i].reshape(2)[0]+k2*X1_test[i].reshape(2)[1]+k0\n",
    "    val2=k1*X2_test[i].reshape(2)[0]+k2*X2_test[i].reshape(2)[1]+k0\n",
    "    if val1<0:\n",
    "        qdaerr+=1\n",
    "    if val2>0:\n",
    "        qdaerr+=1\n",
    "print('由QDA求出的分界面对测试集进行测试，分类错误率为：%.3f'%(qdaerr/(2*len(X1_test))))"
   ]
  },
  {
   "cell_type": "markdown",
   "metadata": {},
   "source": [
    "## 结果分析\n",
    "计算出的LDA和QDA分类错误率如代码输出结果所示(由于没有设置随机数种子，所以每次产生的二元正态分布数据有所不同)，但多次运行代码，可以发现LDA和QDA均能够维持在较低的错误率水平上，二者的分类错误率没有太大差异，说明此时LDA和QDA都适用。事实上，由于该问中两个正态分布的协方差矩阵相等，所以二次判别函数中的二次项对于每一类都相同，故此时的判别函数实际上也是一次(线性)判别函数。"
   ]
  },
  {
   "cell_type": "markdown",
   "metadata": {},
   "source": [
    "## 第2问\n",
    "## 代码实现"
   ]
  },
  {
   "cell_type": "code",
   "execution_count": 26,
   "metadata": {},
   "outputs": [
    {
     "name": "stdout",
     "output_type": "stream",
     "text": [
      "由LDA得出的投影方向为：(0.453,0.892)\n",
      "由LDA线性判别分析分类错误率为：0.031\n",
      "由QDA求出的线性判别分界面为：0.839x1^2-2.552x1x2+0.839x2^2-5.311x1+0.073x2-0.244=0\n",
      "由QDA求出的分界面对测试集进行测试，分类错误率为：0.025\n"
     ]
    }
   ],
   "source": [
    "#产生二元正态随机数，该问中二元正态分布的协方差矩阵发生了变化\n",
    "samplenum=100\n",
    "mu1=np.array([[-1.5,-1]])\n",
    "mu2=np.array([[2,1]])\n",
    "sigma1=np.array([[1,-0.3],[-0.3,1]])\n",
    "sigma2=np.array([[1,0.8],[0.8,1]])\n",
    "R1=cholesky(sigma1)   #将矩阵分解成LL^T的形式,对于此矩阵，即求矩阵sigma的0.5次幂\n",
    "R2=cholesky(sigma2)\n",
    "sample1=np.dot(np.random.randn(samplenum,2),R1)+mu1  #产生标准二元正态，逆运算得到非标准正态分布\n",
    "sample2=np.dot(np.random.randn(samplenum,2),R2)+mu2\n",
    "y1=np.ones(100)   #设置分类标签，分为类别1和类别2\n",
    "y2=np.ones(100)*2\n",
    "\n",
    "#分成训练集和测试集，训练集0.2，测试集占比0.8\n",
    "X1_train,X1_test,Y1_train,Y1_test=train_test_split(sample1,y1,test_size=0.8)\n",
    "X2_train,X2_test,Y2_train,Y2_test=train_test_split(sample2,y2,test_size=0.8)\n",
    "\n",
    "#LDA线性判别求解,首先求解均值向量和协方差矩阵\n",
    "miu1=sum(X1_train)/len(X1_train)\n",
    "miu2=sum(X2_train)/len(X2_train)\n",
    "cov1=np.cov(X1_train,rowvar=False) #rowvar=false表示按行看成一组观测值\n",
    "cov2=np.cov(X2_train,rowvar=False)\n",
    "sw=cov1+cov2 #类内散度矩阵\n",
    "w=np.dot(np.linalg.inv(sw),(miu1-miu2).reshape(2,1))\n",
    "w=-w/np.linalg.norm(w)  #由此求解出了LDA的投影方向\n",
    "print('由LDA得出的投影方向为：(%.3f,%.3f)'%(w.reshape(2)[0],w.reshape(2)[1]))\n",
    "#用测试集求解分类的错误率,即对于每一个测试样例，求解其投影值，比较到两个类别投影中心点的距离\n",
    "wmu1=np.dot(w.reshape(1,2),miu1)   #求解每一类别的投影中心点(一维数值)\n",
    "wmu2=np.dot(w.reshape(1,2),miu2)\n",
    "err=0  #计数分类错误的个数\n",
    "for i in range(len(X1_test)):\n",
    "    val1=np.dot(w.reshape(1,2),X1_test[i]) #求解投影值\n",
    "    val2=np.dot(w.reshape(1,2),X2_test[i])\n",
    "    if abs(val1-wmu1)>abs(val1-wmu2):\n",
    "        err+=1    #如果第一类测试样例到第二类的距离更近，就说明分类错误\n",
    "    if abs(val2-wmu2)>abs(val2-wmu1):\n",
    "        err+=1    #如果第二类测试样例到第一类的距离更近，就说明分类错误\n",
    "print('由LDA线性判别分析分类错误率为：%.3f'%(err/(2*len(X1_test))))\n",
    "\n",
    "#用QDA求解出一个分界面，先验概率均为p1=p2=0.5,按照多元正态第三种情况来求解,代入给出的公式，bi0略去了lnP（w）\n",
    "B1=-0.5*np.linalg.inv(sigma1);B2=-0.5*np.linalg.inv(sigma2)\n",
    "b1=np.dot(np.linalg.inv(sigma1),mu1.reshape(2,1))\n",
    "b2=np.dot(np.linalg.inv(sigma2),mu2.reshape(2,1))\n",
    "b10=-0.5*np.dot(mu1.reshape(1,2),np.dot(np.linalg.inv(sigma1),mu1.reshape(2,1)))-0.5*np.log(abs(np.linalg.det(sigma1)))\n",
    "b20=-0.5*np.dot(mu2.reshape(1,2),np.dot(np.linalg.inv(sigma2),mu2.reshape(2,1)))-0.5*np.log(abs(np.linalg.det(sigma2)))\n",
    "B=B1-B2;b=(b1-b2).reshape(2);b0=(b10-b20).reshape(1)\n",
    "#求解出得出分解面各项的系数\n",
    "b11=B[0,0];b12=2*B[0,1];b22=B[1,1];u1=b[0];u2=b[1];c=b0[0]\n",
    "print('由QDA求出的线性判别分界面为：%.3fx1^2%.3fx1x2+%.3fx2^2%.3fx1+%.3fx2%.3f=0'%(b11,b12,b22,u1,u2,c))\n",
    "#测试QDA的分类错误率\n",
    "qdaerr=0\n",
    "for i in range(len(X1_test)):\n",
    "    val1=b11*(X1_test[i].reshape(2)[0]**2)+b12*X1_test[i].reshape(2)[0]*X1_test[i].reshape(2)[1]  \\\n",
    "    +b22*(X1_test[i].reshape(2)[1]**2)+u1*X1_test[i].reshape(2)[0]+u2*X1_test[i].reshape(2)[1]+c\n",
    "    val2=b11*(X2_test[i].reshape(2)[0]**2)+b12*X2_test[i].reshape(2)[0]*X2_test[i].reshape(2)[1]  \\\n",
    "    +b22*(X2_test[i].reshape(2)[1]**2)+u1*X2_test[i].reshape(2)[0]+u2*X2_test[i].reshape(2)[1]+c\n",
    "    if val1<0:\n",
    "        qdaerr+=1\n",
    "    if val2>0:\n",
    "        qdaerr+=1\n",
    "print('由QDA求出的分界面对测试集进行测试，分类错误率为：%.3f'%(qdaerr/(2*len(X1_test))))"
   ]
  },
  {
   "cell_type": "markdown",
   "metadata": {},
   "source": [
    "## 结果分析\n",
    "由QDA求出的判别分解面的表达式为：\n",
    "$$0.839x_1^2-2.552x1x2+0.839x_2^2-5.311x_1+0.073x_2-0.244=0$$\n",
    "分类结果如输出所示，结果发现LDA(Fisher)与QDA分类性能相近，故都适合于该分类任务，可能原因是由于所产生的随机数均服从相应的正态分布。"
   ]
  },
  {
   "cell_type": "markdown",
   "metadata": {},
   "source": [
    "## 第3问"
   ]
  },
  {
   "cell_type": "code",
   "execution_count": 27,
   "metadata": {},
   "outputs": [
    {
     "name": "stdout",
     "output_type": "stream",
     "text": [
      "由LDA得出的投影方向为：(-0.984,0.180)\n",
      "由LDA线性判别分析分类错误率为：0.192\n",
      "由QDA求出的分界面对测试集进行测试，分类错误率为：0.200\n"
     ]
    }
   ],
   "source": [
    "#由自由度为2的t分布随机生成50个二维观测值。有50个C3类，100个C2类\n",
    "X1=np.random.standard_t(2,50) \n",
    "X2=np.random.standard_t(2,50)\n",
    "sample3=np.c_[X1,X2]\n",
    "sample2=np.dot(np.random.randn(100,2),R2)+mu2  #这里的C2类采用第二问的正态分布\n",
    "y2=2*np.ones(100);y3=3*np.ones(50)  #设置分类标签\n",
    "\n",
    "#分成训练集和测试集，训练集占0.2，有20或10个\n",
    "X2_train,X2_test,Y2_train,Y2_test=train_test_split(sample2,y2,test_size=0.8)\n",
    "X3_train,X3_test,Y3_train,Y3_test=train_test_split(sample3,y3,test_size=0.8)\n",
    "\n",
    "#LDA线性判别求解,首先求解均值向量和协方差矩阵\n",
    "miu2=sum(X2_train)/len(X2_train)\n",
    "miu3=sum(X3_train)/len(X3_train)\n",
    "cov2=np.cov(X2_train,rowvar=False) #rowvar=false表示按行看成一组观测值\n",
    "cov3=np.cov(X3_train,rowvar=False)\n",
    "sw=cov2+cov3 #类内散度矩阵\n",
    "w=np.dot(np.linalg.inv(sw),(miu2-miu3).reshape(2,1))\n",
    "w=-w/np.linalg.norm(w)  #由此求解出了LDA的投影方向\n",
    "print('由LDA得出的投影方向为：(%.3f,%.3f)'%(w.reshape(2)[0],w.reshape(2)[1]))\n",
    "#用测试集求解分类的错误率,即对于每一个测试样例，求解其投影值，比较到两个类别投影中心点的距离\n",
    "wmu2=np.dot(w.reshape(1,2),miu2)   #求解每一类别的投影中心点(一维数值)\n",
    "wmu3=np.dot(w.reshape(1,2),miu3)\n",
    "err=0  #计数分类错误的个数\n",
    "for i in range(len(X2_test)):\n",
    "    val2=np.dot(w.reshape(1,2),X2_test[i]) #求解投影值\n",
    "    if i<len(X3_test):\n",
    "        val3=np.dot(w.reshape(1,2),X3_test[i])\n",
    "    if abs(val2-wmu2)>abs(val2-wmu3):\n",
    "        err+=1    #如果第二类测试样例到第三类的距离更近，就说明分类错误\n",
    "    if abs(val3-wmu3)>abs(val3-wmu2) and i<len(X3_test):\n",
    "        err+=1    #如果第三类测试样例到第二类的距离更近，就说明分类错误\n",
    "print('由LDA线性判别分析分类错误率为：%.3f'%(err/(len(X2_test)+len(X3_test))))\n",
    "\n",
    "#用QDA求解，先验概率均为p2=2/3，p3=1/3,按照多元正态第三种情况QDA来求解,代入给出的公式\n",
    "B2=-0.5*np.linalg.inv(sigma2)\n",
    "b2=np.dot(np.linalg.inv(sigma2),mu2.reshape(2,1))\n",
    "b20=-0.5*np.dot(mu2.reshape(1,2),np.dot(np.linalg.inv(sigma2),mu2.reshape(2,1)))-0.5*np.log(abs(np.linalg.det(sigma2)))+np.log(2/3)\n",
    "#注意到C3类并没有协方差矩阵和均值向量，需要自行估计\n",
    "sigma3=np.cov(X3_train,rowvar=False)\n",
    "mu3=sum(X3_train)/len(X3_train)\n",
    "B3=-0.5*np.linalg.inv(sigma3)\n",
    "b3=np.dot(np.linalg.inv(sigma3),mu3.reshape(2,1))\n",
    "b30=-0.5*np.dot(mu3.reshape(1,2),np.dot(np.linalg.inv(sigma3),mu3.reshape(2,1)))-0.5*np.log(abs(np.linalg.det(sigma3)))+np.log(1/3)\n",
    "\n",
    "#进行QDA二次判别分析，得出错误率\n",
    "def gix(x,B,b,b0):#判别函数计算\n",
    "    return np.dot(x.reshape(1,2),np.dot(B,x.reshape(2,1)))+np.dot(b.reshape(1,2),x.reshape(2,1))+b0\n",
    "qdaerr=0\n",
    "for i in range(len(X2_test)):\n",
    "    val2=gix(X2_test[i],B2,b2,b20)-gix(X2_test[i],B3,b3,b30)\n",
    "    if val2<0:\n",
    "        qdaerr+=1\n",
    "for i in range(len(X3_test)):\n",
    "    val3=gix(X3_test[i],B2,b2,b20)-gix(X3_test[i],B3,b3,b30)\n",
    "    if val3>0:\n",
    "        qdaerr+=1\n",
    "print('由QDA求出的分界面对测试集进行测试，分类错误率为：%.3f'%(qdaerr/(len(X2_test)+len(X3_test))))\n"
   ]
  },
  {
   "cell_type": "markdown",
   "metadata": {},
   "source": [
    "## 结果分析\n",
    "将C3和C2分开(C2有100个样例，C3有50个样例)，并用样本的均值和协方差对判别式进行估计。总体而言，QDA的性能要优于LDA，代码结果展示QDA具有更低的错误率，但在随机情况下，也会出现QDA的精度低于LDA(Fisher)的精度。"
   ]
  },
  {
   "cell_type": "markdown",
   "metadata": {},
   "source": [
    "# 第二题\n",
    "## 题目描述\n",
    "用sa心脏病数据，用chd(1：得病，0：正常)对tobacco(吸烟量)+ldl(肥胖指数)+age(年龄)进行BayesLDA和QDA建模，和上次作业中的FisherLDA进行比较，实验中的$P(C_i),i=1,2,3...$请用每一组参与训练的数据量来估计。"
   ]
  },
  {
   "cell_type": "markdown",
   "metadata": {},
   "source": [
    "## 代码实现"
   ]
  },
  {
   "cell_type": "code",
   "execution_count": 28,
   "metadata": {},
   "outputs": [
    {
     "name": "stdout",
     "output_type": "stream",
     "text": [
      "由BayesLDA线性判别分析分类错误率为：0.388\n",
      "由QDA得出的分类错误率为：0.288\n"
     ]
    }
   ],
   "source": [
    "#读入数据\n",
    "data=pd.read_csv('saheart.csv')\n",
    "Xpos=data.loc[data['Class']==2,['tobacco','ldl','age']].values\n",
    "Xneg=data.loc[data['Class']==1,['tobacco','ldl','age']].values\n",
    "Ypos=data.loc[data['Class']==2,['Class']].values-1\n",
    "Yneg=data.loc[data['Class']==1,['Class']].values-1\n",
    "#定义Bayles线性判别函数\n",
    "def LDAfun(x,sigma,mu,pi):\n",
    "    inv=np.linalg.inv(sigma)\n",
    "    return np.dot(x.reshape(1,3),np.dot(inv,x.reshape(3,1)))\\\n",
    "            -0.5*np.dot(mu.reshape(1,3),np.dot(inv,mu.reshape(3,1)))+np.log(pi)\n",
    "#将数据分成训练集和测试集，测试集用于评估性能,并给出训练集先验概率)\n",
    "Xpos_train,Xpos_test,Ypos_train,Ypos_test=train_test_split(Xpos,Ypos,test_size=0.3,random_state=2)\n",
    "Xneg_train,Xneg_test,Yneg_train,Yneg_test=train_test_split(Xneg,Yneg,test_size=0.3,random_state=0)\n",
    "p0=len(Xneg_train)/(len(Xpos_train)+len(Xneg_train))\n",
    "p1=len(Xpos_train)/(len(Xpos_train)+len(Xneg_train))\n",
    "\n",
    "\n",
    "#进行BayesLDA建模，首先求得训练集的均值和协方差矩阵\n",
    "posmu=sum(Xpos_train)/len(Xpos_train)\n",
    "possigma=np.cov(Xpos_train,rowvar=False)\n",
    "negmu=sum(Xneg_train)/len(Xneg_train)\n",
    "negsigma=np.cov(Xneg_train,rowvar=False)\n",
    "bayeserr=0\n",
    "for i in range(len(Xpos_test)):\n",
    "    val1=LDAfun(Xpos_test[i],possigma,posmu,p1)-LDAfun(Xpos_test[i],negsigma,negmu,p0)\n",
    "    if val1<0:\n",
    "        bayeserr+=1\n",
    "for i in range(len(Xneg_test)):\n",
    "    val2=LDAfun(Xneg_test[i],possigma,posmu,p1)-LDAfun(Xneg_test[i],negsigma,negmu,p0)\n",
    "    if val2>0:\n",
    "        bayeserr+=1\n",
    "print('由BayesLDA线性判别分析分类错误率为：%.3f'%(bayeserr/(len(Xpos_test)+len(Xneg_test))))\n",
    "\n",
    "\n",
    "#用QDA求解，按照多元正态第三种情况QDA来求解,代入给出的公式\n",
    "B0=-0.5*np.linalg.inv(negsigma)\n",
    "b0=np.dot(np.linalg.inv(negsigma),negmu.reshape(3,1))\n",
    "b00=-0.5*np.dot(negmu.reshape(1,3),np.dot(np.linalg.inv(negsigma),negmu.reshape(3,1)))\\\n",
    "    -0.5*np.log(abs(np.linalg.det(negsigma)))+np.log(p0)\n",
    "#注意到C3类并没有协方差矩阵和均值向量，需要自行估计\n",
    "B1=-0.5*np.linalg.inv(possigma)\n",
    "b1=np.dot(np.linalg.inv(possigma),posmu.reshape(3,1))\n",
    "b10=-0.5*np.dot(posmu.reshape(1,3),np.dot(np.linalg.inv(possigma),posmu.reshape(3,1)))\\\n",
    "    -0.5*np.log(abs(np.linalg.det(possigma)))+np.log(p1)\n",
    "#进行QDA二次判别分析，得出错误率\n",
    "def gix(x,B,b,b0):#判别函数计算\n",
    "    return np.dot(x.reshape(1,3),np.dot(B,x.reshape(3,1)))+np.dot(b.reshape(1,3),x.reshape(3,1))+b0\n",
    "qdaerr=0\n",
    "for i in range(len(Xpos_test)):\n",
    "    val1=gix(Xpos_test[i],B1,b1,b10)-gix(Xpos_test[i],B0,b0,b00)\n",
    "    if val1<0:\n",
    "        qdaerr+=1\n",
    "for i in range(len(Xneg_test)):\n",
    "    val2=gix(Xneg_test[i],B1,b1,b10)-gix(Xneg_test[i],B0,b0,b00)\n",
    "    if val2>0:\n",
    "        qdaerr+=1\n",
    "print('由QDA得出的分类错误率为：%.3f'%(qdaerr/(len(Xpos_test)+len(Xneg_test))))"
   ]
  },
  {
   "cell_type": "markdown",
   "metadata": {},
   "source": [
    "## 结果分析\n",
    "由错误率可得，QDA的错误率明显低于BayesLDA，与上次作业的结果在同等条件下(0.7训练集，0.3测试集)进行比较，QDA也低于FisherLDA，由此可知，在SA心脏病数据中，二次判别分析(QDA)最适用于该二分类判别分析。"
   ]
  },
  {
   "cell_type": "code",
   "execution_count": null,
   "metadata": {},
   "outputs": [],
   "source": []
  },
  {
   "cell_type": "markdown",
   "metadata": {},
   "source": [
    "# 参考二 2019200886-管若昕\n",
    "# 第三题\n",
    "# 问题3\n",
    "利用鸢尾花数据进行三分类LDA建模，与OVO方式的LDA建模分类进行比较，观察两种分类的效果有何不同？\n",
    "\n",
    "### Code"
   ]
  },
  {
   "cell_type": "code",
   "execution_count": 29,
   "metadata": {},
   "outputs": [],
   "source": [
    "import numpy as np\n",
    "from numpy.linalg import cholesky\n",
    "import pandas as pd\n",
    "import math\n",
    "from sklearn.preprocessing import LabelEncoder#处理分类数据的类\n",
    "from sklearn.metrics import confusion_matrix, precision_score,accuracy_score, recall_score, f1_score\n",
    "#分类结果的判别方法:混淆矩阵判别准确率,查准率,查全率,f1-score\n",
    "from sklearn.discriminant_analysis import LinearDiscriminantAnalysis#lda的类\n",
    "from sklearn.discriminant_analysis import QuadraticDiscriminantAnalysis#qda的类\n",
    "import matplotlib.pyplot as plt#画图的库\n",
    "import collections\n",
    "\n",
    "# 用来正常显示中文标签\n",
    "plt.rcParams['font.sans-serif']=['SimHei'] \n",
    "plt.rcParams[ \"axes.unicode_minus\"]= False  #显示负号\n",
    "\n",
    "import warnings\n",
    "warnings.filterwarnings('ignore')"
   ]
  },
  {
   "cell_type": "code",
   "execution_count": 30,
   "metadata": {},
   "outputs": [],
   "source": [
    "#加载鸢尾花数据集\n",
    "from sklearn import datasets\n",
    " \n",
    "iris = datasets.load_iris()\n",
    "X = iris.data\n",
    "Y = iris.target\n",
    "data = pd.DataFrame(X)\n",
    "data['label'] = Y"
   ]
  },
  {
   "cell_type": "code",
   "execution_count": 31,
   "metadata": {},
   "outputs": [],
   "source": [
    "#精确度矩阵\n",
    "A = pd.DataFrame(data = None, columns = ['0类分类准确度', '1类分类准确度', '2类分类准确度'], \n",
    "                 index = ['OvOLDA', '四维LDA', '三维LDA', '二维LDA'])"
   ]
  },
  {
   "cell_type": "code",
   "execution_count": 32,
   "metadata": {},
   "outputs": [],
   "source": [
    "#保存：求三类样本的特征数据\n",
    "\n",
    "#提取数据\n",
    "X1 = data.loc[data['label'] == 0].drop('label', axis = 1).values\n",
    "X2 = data.loc[data['label'] == 1].drop('label', axis = 1).values\n",
    "X3 = data.loc[data['label'] == 2].drop('label', axis = 1).values\n",
    "\n",
    "#计算均值向量\n",
    "m1 = np.mean(X1, axis = 0)\n",
    "m2 = np.mean(X2, axis = 0)\n",
    "m3 = np.mean(X3, axis = 0)\n",
    "m = [m1,m2,m3]   #m后续还会用到，故保存起来\n",
    "\n",
    "#计算协方差矩阵\n",
    "E1 = np.array([[0.00,0.00,0.00, 0.00],[0.00,0.00,0.00, 0.00],[0.00,0.00,0.00, 0.00],[0.00,0.00,0.00, 0.00]])#1类协方差矩阵\n",
    "for i in range(len(X1)):\n",
    "    E1 += np.dot((X1[i]-m1).reshape(4,1),(X1[i]-m1).reshape(1,4))\n",
    "E2 = np.array([[0.00,0.00,0.00, 0.00],[0.00,0.00,0.00, 0.00],[0.00,0.00,0.00, 0.00],[0.00,0.00,0.00, 0.00]])#2类协方差矩阵\n",
    "for i in range(len(X2)):\n",
    "    E2 += np.dot((X2[i]-m2).reshape(4,1),(X2[i]-m2).reshape(1,4))\n",
    "E3 = np.array([[0.00,0.00,0.00, 0.00],[0.00,0.00,0.00, 0.00],[0.00,0.00,0.00, 0.00],[0.00,0.00,0.00, 0.00]])#3类协方差矩阵\n",
    "for i in range(len(X3)):\n",
    "    E2 += np.dot((X3[i]-m3).reshape(4,1),(X3[i]-m3).reshape(1,4))\n",
    "E = [E1, E2, E3] #E的保存同理"
   ]
  },
  {
   "cell_type": "markdown",
   "metadata": {},
   "source": [
    "三分类LDA"
   ]
  },
  {
   "cell_type": "code",
   "execution_count": 33,
   "metadata": {},
   "outputs": [],
   "source": [
    "#三分类LDA\n",
    "\n",
    "labels = np.unique(data['label']) #获取三类数据\n",
    "\n",
    "#均值列表\n",
    "uall = []\n",
    "\n",
    "#数据字典\n",
    "Call = {}\n",
    "\n",
    "# Sw：类内散度矩阵\n",
    "dim = np.shape(data)[1]-1\n",
    "Sw = np.mat(np.zeros((dim, dim)))\n",
    "for i in labels:\n",
    "    datai = data.loc[data['label'] == i]\n",
    "    Ci = np.mat(datai.drop('label', axis=1))\n",
    "    Call[i] = Ci\n",
    "    ui = np.mean(Ci, axis=0)\n",
    "    uall.append(ui)\n",
    "    Si = (Ci-ui).T * (Ci-ui)\n",
    "    Sw += Si\n",
    "\n",
    "# St：全局散度矩阵\n",
    "C = np.mat(data.drop('label', axis=1))\n",
    "u = np.mean(C, axis=0)\n",
    "St = (C-u).T *(C-u)\n",
    "\n",
    "# Sb：类间散度矩阵\n",
    "Sb = St - Sw\n",
    "\n",
    "S = Sw.I * Sb\n"
   ]
  },
  {
   "cell_type": "code",
   "execution_count": 34,
   "metadata": {},
   "outputs": [],
   "source": [
    "#定义对不同维度降维要求求投影矩阵weights的函数\n",
    "\n",
    "def getweights(d):\n",
    "    lamd, lX = np.linalg.eig(S)      # 求特征值和特征向量\n",
    "    order= lamd.argsort()[::-1]\n",
    "    select = order[:d]         #获取d个特征值\n",
    "    weights = lX[:, select]\n",
    "    return weights\n"
   ]
  },
  {
   "cell_type": "markdown",
   "metadata": {},
   "source": [
    "#### 说明\n",
    "- 如何根据得到的投影矩阵W判定某一组数据的分类？\n",
    "- 使用W与向量和三类数据均值向量的内积得到的向量之间的欧式距离，将该组数据归类到与均值向量投影的欧氏距离最短的一类。"
   ]
  },
  {
   "cell_type": "code",
   "execution_count": 35,
   "metadata": {},
   "outputs": [],
   "source": [
    "#定义类别判断函数\n",
    "def classify(x, weights):\n",
    "    ABS = []\n",
    "    for k in range(len(uall)):\n",
    "        ABS.append(np.linalg.norm(np.dot(x, weights)-np.dot(np.array(uall[k]), weights)))\n",
    "        #与每一类均值投影点的欧式距离\n",
    "    return labels[ABS.index(min(ABS))] #判定类别为与其均值投影点距离最近的那一类"
   ]
  },
  {
   "cell_type": "code",
   "execution_count": 36,
   "metadata": {},
   "outputs": [],
   "source": [
    "#定义不同weights情况下的准确率函数\n",
    "def accuracy(weights):\n",
    "    correct = 0\n",
    "    for i in range(len(X)):\n",
    "        if classify(X[i], weights) == Y[i] :\n",
    "            correct += 1\n",
    "    return correct/len(X)"
   ]
  },
  {
   "cell_type": "code",
   "execution_count": 37,
   "metadata": {},
   "outputs": [
    {
     "name": "stdout",
     "output_type": "stream",
     "text": [
      "降维至2维、3维、保持4维的准确率分别为： [0.98, 0.98, 0.98]\n",
      "LDA降维准确率较高的维数为： 2\n"
     ]
    }
   ],
   "source": [
    "dim = [2, 3, 4]\n",
    "Accuracy = []\n",
    "for i in dim:\n",
    "    w = getweights(i)\n",
    "    Accuracy.append(accuracy(w))\n",
    "\n",
    "print(\"降维至2维、3维、保持4维的准确率分别为：\",Accuracy)\n",
    "Dim = dim[Accuracy.index(max(Accuracy))]\n",
    "print(\"LDA降维准确率较高的维数为：\", Dim)"
   ]
  },
  {
   "cell_type": "markdown",
   "metadata": {},
   "source": [
    "#### 结论\n",
    "因此，可知降维至2维或3维，或者保持4维的准确率相同，因此均可以用于分类。我们可以分别使用三种模型来观察对不同类别数据分类的效果。"
   ]
  },
  {
   "cell_type": "code",
   "execution_count": 38,
   "metadata": {},
   "outputs": [
    {
     "data": {
      "image/png": "[encoded data removed]",
      "text/plain": [
       "<Figure size 432x288 with 1 Axes>"
      ]
     },
     "metadata": {
      "needs_background": "light"
     },
     "output_type": "display_data"
    }
   ],
   "source": [
    "#二维绘图\n",
    "w = getweights(2)\n",
    "\n",
    "#存储分类结果\n",
    "pred = []\n",
    "for i in range(len(X)):\n",
    "    pred.append(classify(X[i], w))\n",
    "\n",
    "C = np.mat(X)\n",
    "CC = C * w\n",
    "\n",
    "newdata = pd.DataFrame(CC, columns = ['First', 'Second'])\n",
    "\n",
    "#pred加入到数据列表的dataframe中\n",
    "newdata['label'] = Y\n",
    "newdata['pred'] = pred\n",
    "\n",
    "colors = ['lightcoral','mistyrose','peachpuff','papayawhip','gold','y','darkseagreen',\n",
    "         'mediumaquamarine','powderblue','lightsteelblue','slateblue','thistle',\n",
    "         'lightpink'] #颜色列表\n",
    "PRED = []   #存储三类数据的预测列表\n",
    "j = 0\n",
    "for i in labels:\n",
    "    CCi = newdata.loc[newdata['label'] == i]\n",
    "    CCi.index = range(len(CCi))  #重塑提取索引\n",
    "    Ci = np.array(CCi)\n",
    "    Pred = [] #预测结果列表\n",
    "    for k in range(len(CCi)):\n",
    "        if CCi['label'][k] == CCi['pred'][k]:\n",
    "            Pred.append('Valid')\n",
    "            plt.scatter(Ci[:, 0], Ci[:, 1], c=colors[j], marker=\"o\")\n",
    "        else:\n",
    "            plt.scatter(Ci[:, 0], Ci[:, 1], c=colors[j+1], marker=\"o\")\n",
    "    j += 1\n",
    "    PRED.append(Pred)\n",
    "\n",
    "plt.title(\"分类结果展示\")\n",
    "plt.show()\n"
   ]
  },
  {
   "cell_type": "markdown",
   "metadata": {},
   "source": [
    "如图所示，使用三分类LDA对整体进行分类，结果基本上完全正确，准确率达到0.98，故分类有效。\n",
    "#### 下面观察三类数据的分类效果："
   ]
  },
  {
   "cell_type": "markdown",
   "metadata": {},
   "source": [
    "降至二维后的分类情况："
   ]
  },
  {
   "cell_type": "code",
   "execution_count": 39,
   "metadata": {},
   "outputs": [
    {
     "name": "stdout",
     "output_type": "stream",
     "text": [
      "降至二维的三分类LDA模型对0类，1类，2类数据分类的精确度分别为： 1.0 0.96 0.98\n"
     ]
    }
   ],
   "source": [
    "accuracy0 = len(PRED[0])/len(X1)\n",
    "accuracy1 = len(PRED[1])/len(X2)\n",
    "accuracy2 = len(PRED[2])/len(X3)\n",
    "\n",
    "print(\"降至二维的三分类LDA模型对0类，1类，2类数据分类的精确度分别为：\",accuracy0,accuracy1,accuracy2)\n",
    "A.loc['二维LDA',:] = [accuracy0,accuracy1,accuracy2]"
   ]
  },
  {
   "cell_type": "markdown",
   "metadata": {},
   "source": [
    "降至三维后的分类情况："
   ]
  },
  {
   "cell_type": "code",
   "execution_count": 40,
   "metadata": {},
   "outputs": [
    {
     "name": "stdout",
     "output_type": "stream",
     "text": [
      "降至三维的三分类LDA模型对0类，1类，2类数据分类的精确度分别为： 1.0 0.96 0.98\n"
     ]
    }
   ],
   "source": [
    "PRED = []\n",
    "w = getweights(3)\n",
    "pred = []\n",
    "for i in range(len(X1)):\n",
    "    if classify(X1[i], w) == 0:\n",
    "        pred.append('Valid')\n",
    "PRED.append(pred)\n",
    "\n",
    "pred = []\n",
    "for i in range(len(X2)):\n",
    "    if classify(X2[i], w) == 1:\n",
    "        pred.append('Valid')\n",
    "PRED.append(pred)\n",
    "\n",
    "pred = []\n",
    "for i in range(len(X3)):\n",
    "    if classify(X3[i], w) == 2:\n",
    "        pred.append('Valid')\n",
    "PRED.append(pred)\n",
    "\n",
    "accuracy0 = len(PRED[0])/len(X1)\n",
    "accuracy1 = len(PRED[1])/len(X2)\n",
    "accuracy2 = len(PRED[2])/len(X3)\n",
    "\n",
    "print(\"降至三维的三分类LDA模型对0类，1类，2类数据分类的精确度分别为：\",accuracy0,accuracy1,accuracy2)\n",
    "A.loc['三维LDA',:] = [accuracy0,accuracy1,accuracy2]"
   ]
  },
  {
   "cell_type": "markdown",
   "metadata": {},
   "source": [
    "不降维的分类情况："
   ]
  },
  {
   "cell_type": "code",
   "execution_count": 41,
   "metadata": {},
   "outputs": [
    {
     "name": "stdout",
     "output_type": "stream",
     "text": [
      "不降维的三分类LDA模型对0类，1类，2类数据分类的精确度分别为： 1.0 0.96 0.98\n"
     ]
    }
   ],
   "source": [
    "PRED = []\n",
    "w = getweights(3)\n",
    "pred = []\n",
    "for i in range(len(X1)):\n",
    "    if classify(X1[i], w) == 0:\n",
    "        pred.append('Valid')\n",
    "PRED.append(pred)\n",
    "\n",
    "pred = []\n",
    "for i in range(len(X2)):\n",
    "    if classify(X2[i], w) == 1:\n",
    "        pred.append('Valid')\n",
    "PRED.append(pred)\n",
    "\n",
    "pred = []\n",
    "for i in range(len(X3)):\n",
    "    if classify(X3[i], w) == 2:\n",
    "        pred.append('Valid')\n",
    "PRED.append(pred)\n",
    "\n",
    "accuracy0 = len(PRED[0])/len(X1)\n",
    "accuracy1 = len(PRED[1])/len(X2)\n",
    "accuracy2 = len(PRED[2])/len(X3)\n",
    "\n",
    "print(\"不降维的三分类LDA模型对0类，1类，2类数据分类的精确度分别为：\",accuracy0,accuracy1,accuracy2)\n",
    "A.loc['四维LDA',:] = [accuracy0,accuracy1,accuracy2]"
   ]
  },
  {
   "cell_type": "markdown",
   "metadata": {},
   "source": [
    "OvOLDA"
   ]
  },
  {
   "cell_type": "code",
   "execution_count": 42,
   "metadata": {},
   "outputs": [],
   "source": [
    "#定义LDA函数：获取两类的决策函数:获取向量w\n",
    "def judge(a, b):    #a,b为类别序数\n",
    "    Sw = E[a] + E[b]  #求解类内散度矩阵\n",
    "    w = np.dot(np.linalg.inv(Sw),(m[a]-m[b]).reshape(4,1))\n",
    "    return w"
   ]
  },
  {
   "cell_type": "code",
   "execution_count": 43,
   "metadata": {},
   "outputs": [],
   "source": [
    "#获取三个分类器\n",
    "w = []\n",
    "for i in range(3):\n",
    "    for j in range(i+1, 3):\n",
    "        weight = judge(i, j)\n",
    "        w.append(weight)"
   ]
  },
  {
   "cell_type": "code",
   "execution_count": 44,
   "metadata": {},
   "outputs": [],
   "source": [
    "PRED = []\n",
    "#开始分类\n",
    "\n",
    "#0类数据的分类：使用分类器1和分类器3\n",
    "pred = []\n",
    "for i in range(len(X1)):\n",
    "    d = [abs(abs(np.dot(X1[i], w[0]) - np.dot(m1, w[0]))+abs(np.dot(X1[i], w[0]) - np.dot(m2, w[0]))),\n",
    "         abs(abs(np.dot(X1[i], w[2]) - np.dot(m1, w[2]))+abs(np.dot(X1[i], w[2]) - np.dot(m3, w[2])))] #存储距离以备用\n",
    "    right = []\n",
    "    false = []\n",
    "    if abs(np.dot(X1[i], w[0]) - np.dot(m1, w[0])) < abs(np.dot(X1[i], w[0]) - np.dot(m2, w[0])):\n",
    "        right.append('r1')\n",
    "    else:\n",
    "        false.append('r2')\n",
    "    if abs(np.dot(X1[i], w[2]) - np.dot(m1, w[2])) < abs(np.dot(X1[i], w[2]) - np.dot(m3, w[2])):\n",
    "        right.append('k1')\n",
    "    else:\n",
    "        false.append('k2')\n",
    "    if len(right) > len(false):    #投票：正确分类的胜出——有效分类\n",
    "        pred.append('Valid')\n",
    "    elif len(false) > len(right):    #投票：错误分类的胜出——无效分类\n",
    "        pred.append('InValid')\n",
    "    else:    #投票：正确分类和错误分类相当：看概率 定义概率为d中的距离\n",
    "        if 'r1' in right and 'k2' in false:\n",
    "            if d[0] > d[1]:     #正确的概率高——有效分类\n",
    "                pred.append('Valid')\n",
    "            else:\n",
    "                pred.append('InValid')\n",
    "        else:\n",
    "            if d[0] < d[1]:\n",
    "                pred.append('Valid')\n",
    "            else:\n",
    "                pred.append('InValid')\n",
    "PRED.append(pred)\n",
    "\n",
    "#对1类和2类数据的分类同理。\n",
    "\n",
    "#1类数据的分类：使用分类器1和分类器2\n",
    "pred = []\n",
    "for i in range(len(X2)):\n",
    "    d = [abs(abs(np.dot(X2[i], w[0]) - np.dot(m2, w[0]))+abs(np.dot(X2[i], w[0]) - np.dot(m1, w[0]))),\n",
    "         abs(abs(np.dot(X2[i], w[1]) - np.dot(m2, w[1]))+abs(np.dot(X2[i], w[1]) - np.dot(m3, w[1])))] #存储距离以备用\n",
    "    right = []\n",
    "    false = []\n",
    "    if abs(np.dot(X2[i], w[0]) - np.dot(m2, w[0])) < abs(np.dot(X2[i], w[0]) - np.dot(m1, w[0])):\n",
    "        right.append('r1')\n",
    "    else:\n",
    "        false.append('r2')\n",
    "    if abs(np.dot(X2[i], w[1]) - np.dot(m2, w[1])) < abs(np.dot(X2[i], w[1]) - np.dot(m3, w[1])):\n",
    "        right.append('k1')\n",
    "    else:\n",
    "        false.append('k2')\n",
    "    if len(right) > len(false):\n",
    "        pred.append('Valid')\n",
    "    elif len(false) > len(right):\n",
    "        pred.append('InValid')\n",
    "    else:\n",
    "        if 'r1' in right and 'k2' in false:\n",
    "            if d[0] > d[1]:\n",
    "                pred.append('Valid')\n",
    "            else:\n",
    "                pred.append('InValid')\n",
    "        else:\n",
    "            if d[0] < d[1]:\n",
    "                pred.append('Valid')\n",
    "            else:\n",
    "                pred.append('InValid')\n",
    "PRED.append(pred)\n",
    "\n",
    "#2类数据的分类：使用分类器2和分类器3\n",
    "pred = []\n",
    "for i in range(len(X2)):\n",
    "    d = [abs(abs(np.dot(X3[i], w[1]) - np.dot(m3, w[1]))+abs(np.dot(X3[i], w[1]) - np.dot(m2, w[1]))),\n",
    "         abs(abs(np.dot(X3[i], w[2]) - np.dot(m3, w[2]))+abs(np.dot(X3[i], w[2]) - np.dot(m1, w[2])))] #存储距离以备用\n",
    "    right = []\n",
    "    false = []\n",
    "    if abs(np.dot(X3[i], w[1]) - np.dot(m3, w[1])) < abs(np.dot(X3[i], w[1]) - np.dot(m2, w[1])):\n",
    "        right.append('r1')\n",
    "    else:\n",
    "        false.append('r2')\n",
    "    if abs(np.dot(X3[i], w[2]) - np.dot(m3, w[2])) < abs(np.dot(X3[i], w[2]) - np.dot(m1, w[2])):\n",
    "        right.append('k1')\n",
    "    else:\n",
    "        false.append('k2')\n",
    "    if len(right) > len(false):\n",
    "        pred.append('Valid')\n",
    "    elif len(false) > len(right):\n",
    "        pred.append('InValid')\n",
    "    else:\n",
    "        if 'r1' in right and 'k2' in false:\n",
    "            if d[0] > d[1]:\n",
    "                pred.append('Valid')\n",
    "            else:\n",
    "                pred.append('InValid')\n",
    "        else:\n",
    "            if d[0] < d[1]:\n",
    "                pred.append('Valid')\n",
    "            else:\n",
    "                pred.append('InValid')\n",
    "PRED.append(pred)"
   ]
  },
  {
   "cell_type": "code",
   "execution_count": 45,
   "metadata": {},
   "outputs": [],
   "source": [
    "c1 = collections.Counter(PRED[0])\n",
    "c2 = collections.Counter(PRED[1])\n",
    "c3 = collections.Counter(PRED[2])\n",
    "Allaccuracy = (c1['Valid']+c2['Valid']+c3['Valid'])/len(data)"
   ]
  },
  {
   "cell_type": "code",
   "execution_count": 46,
   "metadata": {},
   "outputs": [
    {
     "data": {
      "text/plain": [
       "0.9733333333333334"
      ]
     },
     "execution_count": 46,
     "metadata": {},
     "output_type": "execute_result"
    }
   ],
   "source": [
    "Allaccuracy"
   ]
  },
  {
   "cell_type": "markdown",
   "metadata": {},
   "source": [
    "使用OvOLDA进行分类，整体的分类准确率为0.97，几乎与一般三分类LDA的准确率（0.98）相同。\n",
    "下面观察三类数据的分类效果："
   ]
  },
  {
   "cell_type": "code",
   "execution_count": 47,
   "metadata": {},
   "outputs": [
    {
     "name": "stdout",
     "output_type": "stream",
     "text": [
      "OvOLDA模型对0类，1类，2类数据分类的精确度分别为： 1.0 0.96 0.96\n"
     ]
    }
   ],
   "source": [
    "accuracy0 = c1['Valid']/len(X1)\n",
    "accuracy1 = c2['Valid']/len(X2)\n",
    "accuracy2 = c3['Valid']/len(X3)\n",
    "\n",
    "print(\"OvOLDA模型对0类，1类，2类数据分类的精确度分别为：\",accuracy0,accuracy1,accuracy2)\n",
    "A.loc['OvOLDA',:] = [accuracy0,accuracy1,accuracy2]"
   ]
  },
  {
   "cell_type": "markdown",
   "metadata": {},
   "source": [
    "##### 展示总的精确度代码"
   ]
  },
  {
   "cell_type": "code",
   "execution_count": 48,
   "metadata": {},
   "outputs": [
    {
     "data": {
      "text/html": [
       "<div>\n",
       "<style scoped>\n",
       "    .dataframe tbody tr th:only-of-type {\n",
       "        vertical-align: middle;\n",
       "    }\n",
       "\n",
       "    .dataframe tbody tr th {\n",
       "        vertical-align: top;\n",
       "    }\n",
       "\n",
       "    .dataframe thead th {\n",
       "        text-align: right;\n",
       "    }\n",
       "</style>\n",
       "<table border=\"1\" class=\"dataframe\">\n",
       "  <thead>\n",
       "    <tr style=\"text-align: right;\">\n",
       "      <th></th>\n",
       "      <th>0类分类准确度</th>\n",
       "      <th>1类分类准确度</th>\n",
       "      <th>2类分类准确度</th>\n",
       "    </tr>\n",
       "  </thead>\n",
       "  <tbody>\n",
       "    <tr>\n",
       "      <th>OvOLDA</th>\n",
       "      <td>1</td>\n",
       "      <td>0.96</td>\n",
       "      <td>0.96</td>\n",
       "    </tr>\n",
       "    <tr>\n",
       "      <th>四维LDA</th>\n",
       "      <td>1</td>\n",
       "      <td>0.96</td>\n",
       "      <td>0.98</td>\n",
       "    </tr>\n",
       "    <tr>\n",
       "      <th>三维LDA</th>\n",
       "      <td>1</td>\n",
       "      <td>0.96</td>\n",
       "      <td>0.98</td>\n",
       "    </tr>\n",
       "    <tr>\n",
       "      <th>二维LDA</th>\n",
       "      <td>1</td>\n",
       "      <td>0.96</td>\n",
       "      <td>0.98</td>\n",
       "    </tr>\n",
       "  </tbody>\n",
       "</table>\n",
       "</div>"
      ],
      "text/plain": [
       "       0类分类准确度 1类分类准确度 2类分类准确度\n",
       "OvOLDA       1    0.96    0.96\n",
       "四维LDA        1    0.96    0.98\n",
       "三维LDA        1    0.96    0.98\n",
       "二维LDA        1    0.96    0.98"
      ]
     },
     "execution_count": 48,
     "metadata": {},
     "output_type": "execute_result"
    }
   ],
   "source": [
    "A"
   ]
  },
  {
   "cell_type": "markdown",
   "metadata": {},
   "source": [
    "## 结论\n",
    "\n",
    "#### 分类效果的综合评价\n",
    "1. 三分类LDA模型的总体精确度可达0.98，OvOLDA模型的总体精确度约0.97，两者相差无几，因此，对整体数据的分类效果而言，两种模型效果相近，且分类效果都很好。\n",
    "2. 观察三分类LDA模型保持4维、降至3维、降至2维后对三类数据分别进行分类的效果完全相同。因此，降维与否对三分类LDA分别区分0,1,2类的效果差别不大。\n",
    "3. 观察可知，对0类和1类的分类，两种LDA模型效果都完全相同。对2类的分类，OvOLDA效果略逊于三分类LDA。"
   ]
  },
  {
   "cell_type": "code",
   "execution_count": null,
   "metadata": {},
   "outputs": [],
   "source": []
  }
 ],
 "metadata": {
  "kernelspec": {
   "display_name": "Python 3",
   "language": "python",
   "name": "python3"
  },
  "language_info": {
   "codemirror_mode": {
    "name": "ipython",
    "version": 3
   },
   "file_extension": ".py",
   "mimetype": "text/x-python",
   "name": "python",
   "nbconvert_exporter": "python",
   "pygments_lexer": "ipython3",
   "version": "3.8.5"
  }
 },
 "nbformat": 4,
 "nbformat_minor": 2
}
