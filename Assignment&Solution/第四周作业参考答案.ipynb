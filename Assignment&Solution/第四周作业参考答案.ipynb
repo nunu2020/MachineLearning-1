{
 "cells": [
  {
   "cell_type": "markdown",
   "metadata": {},
   "source": [
    "# 第四周作业参考答案"
   ]
  },
  {
   "cell_type": "markdown",
   "metadata": {},
   "source": [
    "## 特别说明\n",
    "1.请大家多查资料了解各种损失函数的定义。示例参考https://zhuanlan.zhihu.com/p/58883095 \n",
    "\n",
    "2.第一题（c）计算0-1损失函数前，需要将预测的概率值转换成0，1类，通常是以概率0.5为界限。原分类样本标签y与预测分类标签ypred均为0-1取值的序列，若对应值yi与ypredi一致，则该样本损失为0，否则损失为1。\n",
    "\n",
    "3.第一题（d）分层抽样是针对不同类别的，本次作业中是分别从0类中、1类中抽样，具体参考第(f)问中讨论的分别从正例、负例中抽样。\n"
   ]
  },
  {
   "cell_type": "markdown",
   "metadata": {},
   "source": [
    "# 第一题\n",
    "(f)小问，\n",
    "\n",
    "这一小问作业中修改了书中的原题，主要是想考察大家对分类任务中对样本数据的划分方式的理解。在分类任务中，训练集、测试集的划分要尽可能保持数据分布的一致性，避免因数据划分过程引入的额外的偏差而对最终结果产生影响。也即划分后的结果至少要保持样本的类别比例相似。\n",
    "\n",
    "题目中给出了总样本数1000个，其中正例500个，反例500个，将其划分为70%的训练集和30%的测试集。只要选出了训练集，剩下的就是测试集样本。\n",
    "\n",
    "第一种：严格考虑正负样本的比例，也即分层采样。已知正例500个，反例500个，正：反=1：1，那么训练集中正：反也要1：1.训练集总大小为$1000*70\\%=700$个样本，那么划分后，训练集中正例应该有350个，反例应该有350个。实际划分样本集时需要用代码实现，从500个正例中**随机**抽取350个，从500个反例中**随机**抽取350个,作为训练集。\n",
    "\n",
    "第二种：保证划分后，训练集、测试集中样本类别比例与原样本集比例相似。这种情况是实际中比较常用的，因为通常情况下正负样本并不是正好1：1，也有可能是351：87这种；而且样本集中也不一定是前面500个是正例，后面500个是负例，所以如果采用分层的话，首先要按类别将500个正例选出来，再从其中随机选350个，过程比较麻烦。可以使用**将原数据集1000个随机打乱顺序**，再选取其中700个样本作为训练集。这种方式得到的正例与反例的比例也是约等于原比例的。"
   ]
  },
  {
   "cell_type": "markdown",
   "metadata": {},
   "source": [
    "### 参考2019202449-舒纯新"
   ]
  },
  {
   "cell_type": "markdown",
   "metadata": {},
   "source": [
    "## a小问\n",
    "将数据集按照留出法分为训练集(比例0.8)和测试集(比例0.2)，对于函\n",
    "数$mpg= 40-0.15*horsepower$,编写程序估计平方损失下的泛化误差,自行设定试验次数，进行泛化;\n",
    "### 代码实现"
   ]
  },
  {
   "cell_type": "code",
   "execution_count": 1,
   "metadata": {},
   "outputs": [
    {
     "data": {
      "text/html": [
       "<div>\n",
       "<style scoped>\n",
       "    .dataframe tbody tr th:only-of-type {\n",
       "        vertical-align: middle;\n",
       "    }\n",
       "\n",
       "    .dataframe tbody tr th {\n",
       "        vertical-align: top;\n",
       "    }\n",
       "\n",
       "    .dataframe thead th {\n",
       "        text-align: right;\n",
       "    }\n",
       "</style>\n",
       "<table border=\"1\" class=\"dataframe\">\n",
       "  <thead>\n",
       "    <tr style=\"text-align: right;\">\n",
       "      <th></th>\n",
       "      <th>mpg</th>\n",
       "      <th>horsepower</th>\n",
       "      <th>weight</th>\n",
       "      <th>ind</th>\n",
       "    </tr>\n",
       "  </thead>\n",
       "  <tbody>\n",
       "    <tr>\n",
       "      <th>0</th>\n",
       "      <td>18.0</td>\n",
       "      <td>130</td>\n",
       "      <td>3504</td>\n",
       "      <td>0</td>\n",
       "    </tr>\n",
       "    <tr>\n",
       "      <th>1</th>\n",
       "      <td>15.0</td>\n",
       "      <td>165</td>\n",
       "      <td>3693</td>\n",
       "      <td>0</td>\n",
       "    </tr>\n",
       "    <tr>\n",
       "      <th>2</th>\n",
       "      <td>18.0</td>\n",
       "      <td>150</td>\n",
       "      <td>3436</td>\n",
       "      <td>0</td>\n",
       "    </tr>\n",
       "    <tr>\n",
       "      <th>3</th>\n",
       "      <td>16.0</td>\n",
       "      <td>150</td>\n",
       "      <td>3433</td>\n",
       "      <td>0</td>\n",
       "    </tr>\n",
       "    <tr>\n",
       "      <th>4</th>\n",
       "      <td>17.0</td>\n",
       "      <td>140</td>\n",
       "      <td>3449</td>\n",
       "      <td>0</td>\n",
       "    </tr>\n",
       "  </tbody>\n",
       "</table>\n",
       "</div>"
      ],
      "text/plain": [
       "    mpg  horsepower  weight  ind\n",
       "0  18.0         130    3504    0\n",
       "1  15.0         165    3693    0\n",
       "2  18.0         150    3436    0\n",
       "3  16.0         150    3433    0\n",
       "4  17.0         140    3449    0"
      ]
     },
     "execution_count": 1,
     "metadata": {},
     "output_type": "execute_result"
    }
   ],
   "source": [
    "import pandas as pd\n",
    "A=pd.read_csv('auto.csv')\n",
    "A.head()"
   ]
  },
  {
   "cell_type": "code",
   "execution_count": 15,
   "metadata": {},
   "outputs": [
    {
     "name": "stdout",
     "output_type": "stream",
     "text": [
      "二十次测试中，每一次的误差分别为：\n",
      " [22.613 25.09  24.736 22.582 26.582 26.002 30.563 26.376 23.572 17.572\n",
      " 23.88  21.948 23.184 26.654 26.756 25.702 24.212 23.397 24.974 30.102]\n",
      "二十次测试的平均误差为：\n",
      " 24.825\n"
     ]
    }
   ],
   "source": [
    "from sklearn .model_selection import train_test_split\n",
    "import numpy as np\n",
    "#使用train_test_split划分训练集和到试集\n",
    "\n",
    "R=np.zeros(20)   #创建长度为20的全零序列，用来存储每次试验的泛化误差\n",
    "for i in range(0,20):\n",
    "    train_X,test_X,train_Y,test_Y = train_test_split(A.horsepower,A.mpg,test_size=0.2,random_state=100*i)\n",
    "    #x为原始数据的自变量，Y为原始数据因变量﹔\n",
    "    test_Y_pred=40-0.15*test_X\n",
    "    error=(test_Y-test_Y_pred)**2\n",
    "    #用error表示每一项的误差值，取平均计入R算作一次测试的泛化误差，共测试二十次\n",
    "    R[i]=round(np.mean(error),3)\n",
    "print(\"二十次测试中，每一次的误差分别为：\\n\",R)\n",
    "print(\"二十次测试的平均误差为：\\n\",round(np.mean(R),3))\n"
   ]
  },
  {
   "cell_type": "markdown",
   "metadata": {},
   "source": [
    "## b小问\n",
    "将数据集按照留p交叉验证的方式提取测试集，K=20划分采取无放回抽样p=10,对于函数$mpg = 40-0.15*horsepower$,编写程序计算平方损失下的泛化误差\n",
    "### 代码实现"
   ]
  },
  {
   "cell_type": "code",
   "execution_count": 16,
   "metadata": {},
   "outputs": [
    {
     "name": "stdout",
     "output_type": "stream",
     "text": [
      "二十次测试中，每一次的误差分别为：\n",
      " [28.726 17.628 43.311 20.399 36.161 25.603 22.204 14.425 15.565 27.563\n",
      " 21.062 30.638  7.914 26.357 13.41  50.179 23.606 32.273 44.155 11.789]\n",
      "二十次测试的平均误差为：\n",
      " 25.648\n"
     ]
    }
   ],
   "source": [
    "R=np.zeros(20)   #创建长度为20的全零序列，用来存储每次试验的泛化误差,K次\n",
    "for i in range(0,20):                                          #test_size参数表示样本占比，如果是整数的话就是样本的数量\n",
    "    train_X,test_X,train_Y,test_Y = train_test_split(A.horsepower,A.mpg,test_size=10,random_state=i)\n",
    "    #x为原始数据的自变量，Y为原始数据因变量﹔\n",
    "    test_Y_pred=40-0.15*test_X\n",
    "    error=(test_Y-test_Y_pred)**2\n",
    "    #用error表示每一项的误差值，取平均计入R算作一次测试的泛化误差，共测试二十次\n",
    "    R[i]=round(np.mean(error),3)\n",
    "print(\"二十次测试中，每一次的误差分别为：\\n\",R)\n",
    "print(\"二十次测试的平均误差为：\\n\",round(np.mean(R),3))"
   ]
  },
  {
   "cell_type": "markdown",
   "metadata": {},
   "source": [
    "## c小问"
   ]
  },
  {
   "cell_type": "code",
   "execution_count": 18,
   "metadata": {},
   "outputs": [
    {
     "name": "stdout",
     "output_type": "stream",
     "text": [
      "留出法抽样下，0-1损失下的泛化误差为:\n",
      "43\n"
     ]
    }
   ],
   "source": [
    "from sklearn .model_selection import train_test_split\n",
    "import numpy as np\n",
    "import math\n",
    "train_X,test_X,train_Y,test_Y = train_test_split(A.mpg,A.weight,test_size=0.2,random_state=123)\n",
    "m=np.percentile(test_X,75)  #m为3/4位数\n",
    "mpg01=np.zeros(len(test_X)) #构造mpg01数组\n",
    "mpg01[test_X>=m]=1\n",
    "err=math.e**(3.85-0.001*test_Y)/(1+math.e**(3.85-0.001*test_Y)) \n",
    "err[err>=0.5]=1\n",
    "err[err<0.5]=0\n",
    "loss01=sum(mpg01!=err)  #根据0-1损失函数,y和ypred不一致时损失为1，y和ypred一致时，损失为0\n",
    "\n",
    "print(\"留出法抽样下，0-1损失下的泛化误差为:\")\n",
    "print(loss01)"
   ]
  },
  {
   "attachments": {
    "image.png": {
     "image/png": "[encoded data removed]"
    }
   },
   "cell_type": "markdown",
   "metadata": {},
   "source": [
    "![image.png](attachment:image.png)"
   ]
  },
  {
   "cell_type": "markdown",
   "metadata": {},
   "source": [
    "# d小问\n",
    "### 参考2019202197_饶子扬"
   ]
  },
  {
   "cell_type": "code",
   "execution_count": 45,
   "metadata": {},
   "outputs": [
    {
     "name": "stdout",
     "output_type": "stream",
     "text": [
      "留出法抽样下，0-1损失下的泛化误差为:\n",
      "48\n"
     ]
    }
   ],
   "source": [
    "dta = pd.read_csv('auto.csv')\n",
    "# 建立mpg01\n",
    "upperQuarter = np.percentile(dta['mpg'], 75, axis = 0) # 75分位数\n",
    "dta['mpg01'] = dta.apply(lambda x : 1 if x['mpg'] > upperQuarter else 0, axis = 1)\n",
    "# 求P(mpg01 = 1)的函数\n",
    "import math\n",
    "def p1(x):\n",
    "    p = math.exp(3.85 - 0.001 * x) / (1 + math.exp(3.85 - 0.001 * x))\n",
    "    return p\n",
    "\n",
    "# 分层\n",
    "set1 = dta.iloc[np.where(dta['mpg01'] == 1)]\n",
    "set0 = dta.iloc[np.where(dta['mpg01'] == 0)]\n",
    "\n",
    "# 抽测试集 合并\n",
    "testSet1 = set1.sample(int(len(set1) * 0.2))\n",
    "testSet0 = set0.sample(int(len(set0) * 0.2))\n",
    "testSet = pd.concat([testSet1, testSet0], axis = 0)\n",
    "\n",
    "# 求泛化误差\n",
    "err= testSet.apply(lambda x:  p1(x['weight']), axis = 1)\n",
    "err[err>=0.5]=1\n",
    "err[err<0.5]=0\n",
    "loss01=sum(testSet['mpg01']!=err)  #根据0-1损失函数,y和ypred不一致时损失为1，y和ypred一致时，损失为0\n",
    "print(\"留出法抽样下，0-1损失下的泛化误差为:\")\n",
    "print(loss01)"
   ]
  },
  {
   "cell_type": "markdown",
   "metadata": {},
   "source": [
    "## e小问\n",
    "\n",
    "### 问题\n",
    "根据以上实验，结合教材，分析分层抽样和不同的抽样方式对泛化误差的影响\n",
    "\n",
    "### 解答\n",
    "- 分层抽样：保留类别比例的抽样称为分层抽样，分层抽样可以使训练集与测试集保持类别比例相等，消除了因为抽样比例而导致的泛化误差，只剩下由于训练集/测试集数据分布差异而产生的偏差\n",
    "- 非分层抽样：对于简单随机抽样，系统抽样等不主动保持类别比例的抽样方法，泛化误差中可能会包含了抽样比例不同导致的部分，导致泛化标准误偏大，不利于估计的精确性；当不同类别样本数量很多，比例相差不大时泛化误差与分层抽样相似，但当不同类别样本比例相差很大，或者样本数量很少时，其泛化误差会明显大于分层抽样的泛化误差"
   ]
  },
  {
   "cell_type": "code",
   "execution_count": null,
   "metadata": {},
   "outputs": [],
   "source": []
  },
  {
   "cell_type": "markdown",
   "metadata": {},
   "source": [
    "# 第二题\n",
    "### 参考一2019202450-陈诺"
   ]
  },
  {
   "cell_type": "markdown",
   "metadata": {},
   "source": [
    "### <font face=\"宋体\" color=black>第二题<font face=\"宋体\">\n",
    "\n",
    " <font face=\"宋体\">第二章 模型评估与选择b.pdf中第32页，参照例题，作ROC曲线和P-R曲线。<font face=\"宋体\">\n",
    "    \n",
    "<font face=\"宋体\" color=black>代码实现<font face=\"宋体\">"
   ]
  },
  {
   "cell_type": "code",
   "execution_count": 46,
   "metadata": {},
   "outputs": [
    {
     "data": {
      "text/html": [
       "<div>\n",
       "<style scoped>\n",
       "    .dataframe tbody tr th:only-of-type {\n",
       "        vertical-align: middle;\n",
       "    }\n",
       "\n",
       "    .dataframe tbody tr th {\n",
       "        vertical-align: top;\n",
       "    }\n",
       "\n",
       "    .dataframe thead th {\n",
       "        text-align: right;\n",
       "    }\n",
       "</style>\n",
       "<table border=\"1\" class=\"dataframe\">\n",
       "  <thead>\n",
       "    <tr style=\"text-align: right;\">\n",
       "      <th></th>\n",
       "      <th>Class</th>\n",
       "      <th>Score</th>\n",
       "    </tr>\n",
       "  </thead>\n",
       "  <tbody>\n",
       "    <tr>\n",
       "      <th>1</th>\n",
       "      <td>p</td>\n",
       "      <td>0.9</td>\n",
       "    </tr>\n",
       "    <tr>\n",
       "      <th>2</th>\n",
       "      <td>p</td>\n",
       "      <td>0.8</td>\n",
       "    </tr>\n",
       "    <tr>\n",
       "      <th>3</th>\n",
       "      <td>n</td>\n",
       "      <td>0.7</td>\n",
       "    </tr>\n",
       "    <tr>\n",
       "      <th>4</th>\n",
       "      <td>p</td>\n",
       "      <td>0.6</td>\n",
       "    </tr>\n",
       "    <tr>\n",
       "      <th>5</th>\n",
       "      <td>p</td>\n",
       "      <td>0.55</td>\n",
       "    </tr>\n",
       "    <tr>\n",
       "      <th>6</th>\n",
       "      <td>p</td>\n",
       "      <td>0.54</td>\n",
       "    </tr>\n",
       "    <tr>\n",
       "      <th>7</th>\n",
       "      <td>n</td>\n",
       "      <td>0.53</td>\n",
       "    </tr>\n",
       "    <tr>\n",
       "      <th>8</th>\n",
       "      <td>n</td>\n",
       "      <td>0.52</td>\n",
       "    </tr>\n",
       "    <tr>\n",
       "      <th>9</th>\n",
       "      <td>p</td>\n",
       "      <td>0.51</td>\n",
       "    </tr>\n",
       "    <tr>\n",
       "      <th>10</th>\n",
       "      <td>n</td>\n",
       "      <td>0.505</td>\n",
       "    </tr>\n",
       "    <tr>\n",
       "      <th>11</th>\n",
       "      <td>p</td>\n",
       "      <td>0.4</td>\n",
       "    </tr>\n",
       "    <tr>\n",
       "      <th>12</th>\n",
       "      <td>n</td>\n",
       "      <td>0.39</td>\n",
       "    </tr>\n",
       "    <tr>\n",
       "      <th>13</th>\n",
       "      <td>p</td>\n",
       "      <td>0.38</td>\n",
       "    </tr>\n",
       "    <tr>\n",
       "      <th>14</th>\n",
       "      <td>n</td>\n",
       "      <td>0.37</td>\n",
       "    </tr>\n",
       "    <tr>\n",
       "      <th>15</th>\n",
       "      <td>n</td>\n",
       "      <td>0.36</td>\n",
       "    </tr>\n",
       "    <tr>\n",
       "      <th>16</th>\n",
       "      <td>n</td>\n",
       "      <td>0.35</td>\n",
       "    </tr>\n",
       "    <tr>\n",
       "      <th>17</th>\n",
       "      <td>p</td>\n",
       "      <td>0.34</td>\n",
       "    </tr>\n",
       "    <tr>\n",
       "      <th>18</th>\n",
       "      <td>n</td>\n",
       "      <td>0.33</td>\n",
       "    </tr>\n",
       "    <tr>\n",
       "      <th>19</th>\n",
       "      <td>p</td>\n",
       "      <td>0.3</td>\n",
       "    </tr>\n",
       "    <tr>\n",
       "      <th>20</th>\n",
       "      <td>n</td>\n",
       "      <td>0.1</td>\n",
       "    </tr>\n",
       "  </tbody>\n",
       "</table>\n",
       "</div>"
      ],
      "text/plain": [
       "   Class  Score\n",
       "1      p    0.9\n",
       "2      p    0.8\n",
       "3      n    0.7\n",
       "4      p    0.6\n",
       "5      p   0.55\n",
       "6      p   0.54\n",
       "7      n   0.53\n",
       "8      n   0.52\n",
       "9      p   0.51\n",
       "10     n  0.505\n",
       "11     p    0.4\n",
       "12     n   0.39\n",
       "13     p   0.38\n",
       "14     n   0.37\n",
       "15     n   0.36\n",
       "16     n   0.35\n",
       "17     p   0.34\n",
       "18     n   0.33\n",
       "19     p    0.3\n",
       "20     n    0.1"
      ]
     },
     "execution_count": 46,
     "metadata": {},
     "output_type": "execute_result"
    }
   ],
   "source": [
    "# 手动输入数据\n",
    "b = np.array(['p','p','n','p','p','p','n','n','p','n','p','n','p','n','n','n','p','n','p','n',0.9,0.8,0.7,0.6,0.55,0.54,0.53,0.52,0.51,0.505,0.4,0.39,0.38,0.37,0.36,0.35,0.34,0.33,0.30,0.1]).reshape(2,20)\n",
    "data = pd.DataFrame(b.T,columns=['Class','Score'],index=range(1,21))\n",
    "# 展示数据\n",
    "data"
   ]
  },
  {
   "cell_type": "code",
   "execution_count": 47,
   "metadata": {},
   "outputs": [
    {
     "name": "stdout",
     "output_type": "stream",
     "text": [
      "20组FPR和TPR的值:\n",
      " [[0.  0. ]\n",
      " [0.  0.1]\n",
      " [0.  0.2]\n",
      " [0.1 0.2]\n",
      " [0.1 0.3]\n",
      " [0.1 0.4]\n",
      " [0.1 0.5]\n",
      " [0.2 0.5]\n",
      " [0.3 0.5]\n",
      " [0.3 0.6]\n",
      " [0.4 0.6]\n",
      " [0.4 0.7]\n",
      " [0.5 0.7]\n",
      " [0.5 0.8]\n",
      " [0.6 0.8]\n",
      " [0.7 0.8]\n",
      " [0.8 0.8]\n",
      " [0.8 0.9]\n",
      " [0.9 0.9]\n",
      " [0.9 1. ]\n",
      " [1.  1. ]]\n"
     ]
    },
    {
     "data": {
      "image/png": "[encoded data removed]",
      "text/plain": [
       "<Figure size 432x288 with 1 Axes>"
      ]
     },
     "metadata": {
      "needs_background": "light"
     },
     "output_type": "display_data"
    }
   ],
   "source": [
    "import matplotlib.pyplot as plt\n",
    "# 记录点的位置\n",
    "dot = np.array([[0,0]])\n",
    "# 初始位置\n",
    "x,y = 0,0\n",
    "# 数据\n",
    "Class = np.array(data['Class'])\n",
    "Score = np.array(data['Score'])\n",
    "# n1表示正样本的数量,n0表示负样本的数量\n",
    "n1,n0 = np.sum(Class=='p'),np.sum(Class=='n')\n",
    "# path1表示正样本的移动距离,path0表示负样本的移动距离\n",
    "path1 = 1/n1\n",
    "path0 = 1/n0\n",
    "# 画ROC曲线\n",
    "for i in range(20):\n",
    "    if Class[i] == 'p':\n",
    "        y = y + path1        \n",
    "    else:\n",
    "        x = x + path0\n",
    "    dot = np.append(dot,[[x,y]],axis=0)\n",
    "x_ = np.transpose(dot[:,0])\n",
    "y_ = np.transpose(dot[:,1])\n",
    "print(\"20组FPR和TPR的值:\\n\",dot)\n",
    "\n",
    "#这两行用于解决图中中文乱码问题\n",
    "plt.rcParams['font.sans-serif']=['SimHei']\n",
    "plt.rcParams['axes.unicode_minus']=False\n",
    "\n",
    "fig = plt.figure()\n",
    "plt.plot(x_,y_,'X-')\n",
    "plt.plot([0,1],[0,1],':',color='cornflowerblue')\n",
    "plt.title('ROC曲线')\n",
    "plt.xlabel('False Positive Rate')\n",
    "plt.ylabel('True Positive Rate')\n",
    "plt.show()"
   ]
  },
  {
   "cell_type": "code",
   "execution_count": 48,
   "metadata": {},
   "outputs": [
    {
     "data": {
      "image/png": "[encoded data removed]",
      "text/plain": [
       "<Figure size 432x288 with 1 Axes>"
      ]
     },
     "metadata": {
      "needs_background": "light"
     },
     "output_type": "display_data"
    }
   ],
   "source": [
    "from sklearn.metrics import precision_recall_curve\n",
    "'''\n",
    "查准率P表示在所有被认为是正确的样例中，有多少个被正确分类的样例\n",
    "查全率R表示在所有本身即是正确的样例中，有多少个被正确分类的样例\n",
    "'''\n",
    "y_true = np.array([1,1,0,1,1,1,0,0,1,0,1,0,1,0,0,0,1,0,1,0])\n",
    "y_scores = np.array([0.9,0.8,0.7,0.6,0.55,0.54,0.53,0.52,0.51,0.505,0.4,0.39,0.38,0.37,0.36,0.35,0.34,0.33,0.30,0.1])\n",
    "precision, recall, thresholds = precision_recall_curve(y_true, y_scores)\n",
    "fig1 = plt.figure()\n",
    "plt.title(\"P-R曲线\")\n",
    "plt.xlabel(\"查全率\")         # recall\n",
    "plt.ylabel(\"查准率\")         # precision\n",
    "plt.plot(recall,precision,'X-')\n",
    "plt.show()"
   ]
  },
  {
   "cell_type": "code",
   "execution_count": null,
   "metadata": {},
   "outputs": [],
   "source": []
  },
  {
   "cell_type": "markdown",
   "metadata": {},
   "source": [
    "### 参考二 2018200222-查王皓天"
   ]
  },
  {
   "cell_type": "markdown",
   "metadata": {},
   "source": [
    "## Solution\n",
    "\n",
    "\n",
    "该题的任务是绘制roc pr曲线，下面用了两种方法绘制，一个是利用sklearn函数，另一个是自己根据pr roc曲线的定义，编写函数绘制"
   ]
  },
  {
   "cell_type": "code",
   "execution_count": 3,
   "metadata": {},
   "outputs": [
    {
     "data": {
      "image/png": "[encoded data removed]",
      "text/plain": [
       "<Figure size 1080x1080 with 4 Axes>"
      ]
     },
     "metadata": {
      "needs_background": "light"
     },
     "output_type": "display_data"
    }
   ],
   "source": [
    "import matplotlib\n",
    "import numpy as np\n",
    "import matplotlib.pyplot as plt\n",
    "from sklearn.metrics import precision_recall_curve\n",
    "from sklearn.metrics import roc_curve\n",
    "\n",
    "#绘制pr曲线\n",
    "def PR_curve(y,pred):\n",
    "    \n",
    "    #用numpy来做，进行排序\n",
    "    \n",
    "    pos = np.sum(y == 1)   #计算正负例个数\n",
    "    neg = np.sum(y == 0)\n",
    "    pred_sort = np.sort(pred)[::-1]  # pred从大到小排序\n",
    "    index = np.argsort(pred)[::-1]  # 从大到小排序,提取序号，用于给y排序\n",
    "    \n",
    "    y_sort = y[index]   #排序后的y 和predict都有了\n",
    "\n",
    "\n",
    "    Pre = []\n",
    "    Rec = []\n",
    "    for i, item in enumerate(pred_sort):   \n",
    "        if i == 0:#因为计算precision的时候分母要用到i，当i为0时会出错，所以单独列出\n",
    "            Pre.append(1)\n",
    "            Rec.append(0)\n",
    "\n",
    "\n",
    "        else:\n",
    "            Pre.append(np.sum((y_sort[:i] == 1)) /i)\n",
    "            Rec.append(np.sum((y_sort[:i] == 1)) / pos)\n",
    "\n",
    "            \n",
    "    ## 画图\n",
    "    plt.plot(Rec, Pre, 'k')\n",
    "    #plt.legend(loc='lower right')\n",
    "\n",
    "    plt.title('Recall Precsion Curve')\n",
    "    plt.plot([(0, 0), (1, 1)], 'r--')\n",
    "    plt.xlim([-0.01, 1.01])\n",
    "    plt.ylim([-0.01, 01.01])\n",
    "    plt.ylabel('Precision')\n",
    "    plt.xlabel('Recall')\n",
    "    \n",
    "def ROC_curve(y,pred):    #同理绘制roc曲线\n",
    "    pos = np.sum(y == 1)\n",
    "    neg = np.sum(y == 0)\n",
    "    pred_sort = np.sort(pred)[::-1]  #从大到小排序\n",
    "    index = np.argsort(pred)[::-1]#从大到小排序\n",
    "    y_sort = y[index]\n",
    "\n",
    "    tpr = []\n",
    "    fpr = []\n",
    "\n",
    "    for i,item in enumerate(pred_sort):\n",
    "        tpr.append(np.sum((y_sort[:i+1] == 1)) / pos)\n",
    "        fpr.append(np.sum((y_sort[:i+1] == 0)) / neg)\n",
    "\n",
    "    #画图\n",
    "    plt.plot(fpr, tpr, 'k')\n",
    "    plt.title('Receiver Operating Characteristic')\n",
    "    plt.plot([(0, 0), (1, 1)],'r--')\n",
    "    plt.xlim([-0.01,1.01])\n",
    "    plt.ylim([-0.01,01.01])\n",
    "    plt.ylabel('True Positive Rate')\n",
    "    plt.xlabel('False Positive Rate')\n",
    "    \n",
    "\n",
    "y_true = np.array([1,1,0,1,1,1,0,0,1,0,1,0,1,0,0,0,1,0,1,0])\n",
    "y_scores = np.array([0.9, 0.8,0.7,0.6,0.55,0.54,0.53,0.52,0.51,0.505,0.4,0.39,0.38,0.37,0.36,0.35,0.34,0.33,0.30,0.1])\n",
    "\n",
    "\n",
    "plt.figure(figsize=(15,15))\n",
    "\n",
    "plt.subplot(221)   #绘制四张图\n",
    "PR_curve(y_true,y_scores)  #利用函数\n",
    "\n",
    "plt.subplot(222)\n",
    "#PR_curve(y_true,y_scores)\n",
    "precision, recall, thresholds = precision_recall_curve(y_true, y_scores)  #利用sklrean\n",
    "plt.plot(recall,precision,'k')\n",
    "plt.title('Recall Precsion Curve-sklearn')\n",
    "plt.plot([(0, 0), (1, 1)], 'r--')\n",
    "plt.xlim([-0.01, 1.01])\n",
    "plt.ylim([-0.01, 01.01])\n",
    "plt.ylabel('Precision')\n",
    "plt.xlabel('Recall')\n",
    "\n",
    "plt.subplot(223)   #利用函数是\n",
    "ROC_curve(y_true,y_scores)\n",
    "\n",
    "plt.subplot(224)   #利用sklearn\n",
    "fpr, tpr, thresholds = roc_curve(y_true, y_scores, pos_label=1)\n",
    "plt.plot(fpr, tpr,'k')\n",
    "plt.title('Receiver Operating Characteristic-sklearn')\n",
    "plt.plot([(0, 0), (1, 1)],'r--')\n",
    "plt.xlim([-0.01,1.01])\n",
    "plt.ylim([-0.01,01.01])\n",
    "plt.ylabel('True Positive Rate')\n",
    "plt.xlabel('False Positive Rate')\n",
    "\n",
    "plt.tight_layout()\n"
   ]
  },
  {
   "cell_type": "code",
   "execution_count": null,
   "metadata": {},
   "outputs": [],
   "source": []
  },
  {
   "cell_type": "code",
   "execution_count": null,
   "metadata": {},
   "outputs": [],
   "source": []
  },
  {
   "cell_type": "code",
   "execution_count": null,
   "metadata": {},
   "outputs": [],
   "source": []
  },
  {
   "cell_type": "code",
   "execution_count": null,
   "metadata": {},
   "outputs": [],
   "source": []
  },
  {
   "cell_type": "code",
   "execution_count": null,
   "metadata": {},
   "outputs": [],
   "source": []
  }
 ],
 "metadata": {
  "kernelspec": {
   "display_name": "Python 3",
   "language": "python",
   "name": "python3"
  },
  "language_info": {
   "codemirror_mode": {
    "name": "ipython",
    "version": 3
   },
   "file_extension": ".py",
   "mimetype": "text/x-python",
   "name": "python",
   "nbconvert_exporter": "python",
   "pygments_lexer": "ipython3",
   "version": "3.8.5"
  }
 },
 "nbformat": 4,
 "nbformat_minor": 4
}
